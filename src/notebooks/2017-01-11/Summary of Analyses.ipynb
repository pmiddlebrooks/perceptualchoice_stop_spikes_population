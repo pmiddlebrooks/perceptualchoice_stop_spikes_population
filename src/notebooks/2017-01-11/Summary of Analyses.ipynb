{
 "cells": [
  {
   "cell_type": "markdown",
   "metadata": {},
   "source": [
    "#Summary Analyses"
   ]
  },
  {
   "cell_type": "code",
   "execution_count": null,
   "metadata": {
    "collapsed": true
   },
   "outputs": [],
   "source": [
    "dataPath = fullfile(projectRoot,'data',projectDate,subject);\n",
    "\n",
    "\n",
    "% Choose the categories of neurons to compare\n",
    "ddmEpoch = 'Stim';\n",
    "\n",
    "classicEpoch = 'presaccPeak';\n",
    "cancelEpoch = 'presaccPeakCancel';\n",
    "\n",
    "classicEpoch = 'presaccRamp';\n",
    "cancelEpoch = 'presaccRampCancel';\n",
    "\n",
    "classicEpoch = 'presacc';\n",
    "cancelEpoch = 'presaccCancel';\n",
    "\n",
    "\n",
    "\n",
    "\n",
    "% LOAD ALL RELEVANT DATA AND LISTS\n",
    "\n",
    "% Load full popuulation of neurons\n",
    "load(fullfile(dataPath, ['ccm_neuronTypes', addMulti]));\n",
    "nUnit = size(neuronTypes, 1);\n",
    "clear neuronTypes\n",
    "\n",
    "\n",
    "% Load Classic neuron classifications\n",
    "c = load(fullfile(dataPath, ['ccm_',classicEpoch,'_neurons', addMulti]));\n",
    "classic = c.neurons;\n",
    "\n",
    "\n",
    "% Load Ding and gold ddm neuron classifications\n",
    "dg = load(fullfile(dataPath, ['ccm_ddm', ddmEpoch, '_neurons', addMulti]));\n",
    "ddm = dg.neurons;\n",
    "\n",
    "\n",
    "% Load Cancel Time population \n",
    "ca = load(fullfile(dataPath, ['ccm_',cancelEpoch,'_neurons', addMulti]));\n",
    "cancel = ca.neurons;\n",
    "\n",
    "\n",
    "\n",
    "[~, iCla, iDdm] = setxor(classic, ddm);\n",
    "classicDdm = intersect(classic, ddm);\n",
    "classicNoDdm = classic(iCla, :);\n",
    "ddmNoClassic = ddm(iDdm, :);\n",
    "\n",
    "\n",
    "[~, iCla, iCan] = setxor(classic, cancel);\n",
    "classicCancel = intersect(classic, cancel);\n",
    "classicNoCancel = classic(iCla, :);\n",
    "cancelNoClassic = ddm(iCan, :);\n",
    "\n",
    "\n",
    "[~, iCla, iBoth] = setxor(cancel, classicDdm);\n",
    "classicCancelNoDdm = cancel(iCla,:);\n",
    "classicDdmNoCancel = classicDdm(iBoth,:);\n",
    "classicDdmCancel = intersect(classicDdm, cancel);\n",
    "\n"
   ]
  },
  {
   "cell_type": "markdown",
   "metadata": {},
   "source": [
    "###Print out percentages of the relevant neuron categories"
   ]
  },
  {
   "cell_type": "code",
   "execution_count": null,
   "metadata": {
    "collapsed": true
   },
   "outputs": [],
   "source": [
    "fprintf('\\nTotal Units:\\t%d\\n', nUnit)\n",
    "\n",
    "fprintf('\\n%s:\\t%d\\t%.1f%% of total\\n', classicEpoch, size(classic, 1), size(classic, 1)*100/nUnit)\n",
    "\n",
    "fprintf('DDM-%s:\\t%d\\t%.1f%% of total\\n', ddmEpoch, size(ddm, 1), size(ddm, 1)*100/nUnit)\n",
    "\n",
    "fprintf('%s and DDM-%s:\\t%d\\t%.1f%% of total,\\t%.1f%% of %s,\\t%.1f%% of DDM-%s\\n', classicEpoch, ddmEpoch, size(classicDdm, 1), size(classicDdm, 1)*100/nUnit, size(classicDdm, 1)*100/size(classic, 1), classicEpoch, size(classicDdm, 1)*100/size(ddm, 1), ddmEpoch)\n",
    "\n",
    "fprintf('%s and %s:\\t%d\\t%.1f%% of total,\\t%.1f%% of %s\\n', classicEpoch, cancelEpoch, size(classicCancel, 1), size(classicCancel, 1)*100/nUnit, size(classicCancel, 1)*100/size(classic, 1), classicEpoch)\n",
    "\n",
    "fprintf('%s and %s and DDM-%s:\\t%d\\t%.1f%% of total,\\t%.1f%% of %s,\\t%.1f%% of DDM-%s\\n', classicEpoch, cancelEpoch, ddmEpoch, size(classicDdmCancel, 1), size(classicDdmCancel, 1)*100/nUnit, size(classicDdmCancel, 1)*100/size(classic, 1), classicEpoch, size(classicDdmCancel, 1)*100/size(ddm, 1), ddmEpoch)\n"
   ]
  },
  {
   "cell_type": "markdown",
   "metadata": {},
   "source": [
    "## Make a Venn diagram of the results"
   ]
  },
  {
   "cell_type": "code",
   "execution_count": null,
   "metadata": {
    "collapsed": true
   },
   "outputs": [],
   "source": [
    "A = [size(classic, 1) size(cancel, 1) size(ddm, 1)];\n",
    "I = [size(classicCancel, 1) size(classicDdm, 1) size(classicDdmCancel, 1) size(classicDdmCancel, 1)];\n",
    "\n",
    "figure(1), axis equal, axis off\n",
    "\n",
    "venn(A,I,'FaceColor',{'r','y','b'},'FaceAlpha',{.5,0.6,0.2},'EdgeColor','black')\n"
   ]
  }
 ],
 "metadata": {
  "kernelspec": {
   "display_name": "Python 2",
   "language": "python",
   "name": "python2"
  },
  "language_info": {
   "codemirror_mode": {
    "name": "ipython",
    "version": 2
   },
   "file_extension": ".py",
   "mimetype": "text/x-python",
   "name": "python",
   "nbconvert_exporter": "python",
   "pygments_lexer": "ipython2",
   "version": "2.7.13"
  }
 },
 "nbformat": 4,
 "nbformat_minor": 0
}
