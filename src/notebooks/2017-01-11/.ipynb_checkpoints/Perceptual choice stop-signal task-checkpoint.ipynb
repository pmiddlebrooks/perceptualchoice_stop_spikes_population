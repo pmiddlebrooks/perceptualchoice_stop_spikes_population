{
 "cells": [
  {
   "cell_type": "markdown",
   "metadata": {},
   "source": [
    "# Step 1 - Preparatory processes"
   ]
  },
  {
   "cell_type": "markdown",
   "metadata": {},
   "source": [
    "##### Step 1.2 - Add paths to MATLAB's search path"
   ]
  },
  {
   "cell_type": "markdown",
   "metadata": {},
   "source": [
    "_Goal_:  \n",
    "Ensure access to code\n",
    "\n",
    "_Instructions_:  \n",
    "Paste code into MATLAB\n",
    "\n",
    "_Output_:  \n",
    "None"
   ]
  },
  {
   "cell_type": "code",
   "execution_count": null,
   "metadata": {
    "collapsed": false
   },
   "outputs": [],
   "source": [
    "%%matlab\n",
    "projectDate = '2017-01-11';\n",
    "accreRoot = '/gpfs22';\n",
    "accreHome = '/home/middlepg';\n",
    "accreScratch = '/scratch/middlepg';\n",
    "if isdir(fullfile(accreScratch))\n",
    "    matRoot = fullfile(accreRoot,accreHome,'m-files'); % Edit this if running on Accre\n",
    "    projectRoot = fullfile(accreScratch,'perceptualchoice_stop_model');\n",
    "    environ = 'accre';\n",
    "else\n",
    "    matRoot = '/Volumes/HD-1/Users/paulmiddlebrooks/schalllab';\n",
    "    projectRoot = '/Volumes/HD-1/Users/paulmiddlebrooks/perceptualchoice_stop_spikes_population';\n",
    "    environ = 'local';\n",
    "end\n",
    "\n",
    "addpath(genpath(fullfile(matRoot,'ccm')));\n",
    "addpath(genpath(fullfile(projectRoot,'src/code',projectDate)));\n",
    "\n",
    "cd(matRoot)\n",
    "\n"
   ]
  },
  {
   "cell_type": "markdown",
   "metadata": {},
   "source": [
    "##Add/update session info (via google docs), and export as csv into project folder:\n",
    "####Joule:\n",
    "https://docs.google.com/spreadsheets/d/1rA56h4OLnKhHE5rrVCj_7z0p5V7pJNBpjCvqwiWlDGk/edit?usp=sharing\n",
    "####Broca:\n",
    "https://docs.google.com/spreadsheets/d/1fCAimMjKYRO7HjRlLar4Oc6oMDQzqgNfUsbuolDNngA/edit?usp=sharing"
   ]
  },
  {
   "cell_type": "markdown",
   "metadata": {},
   "source": [
    "# CLASSIFY ALL NEURONS BASED ON GO TRIALS \n",
    "## Step 2 - Automatically create table of all neuron categories from all sessions"
   ]
  },
  {
   "cell_type": "markdown",
   "metadata": {},
   "source": [
    "##### Step 2.1 - Categorize all neuron types based on activation throughout trials"
   ]
  },
  {
   "cell_type": "markdown",
   "metadata": {},
   "source": [
    "_Goal_:  \n",
    "\n",
    "_Instructions_:  \n",
    "Paste code into matlab.\n",
    "\n",
    "_Output_:  \n",
    "`ccm_neuronTypes` in `.../data/<subject>/`"
   ]
  },
  {
   "cell_type": "code",
   "execution_count": null,
   "metadata": {
    "collapsed": true
   },
   "outputs": [],
   "source": [
    "%%matlab\n",
    "\n",
    "subject = 'joule';\n",
    "\n",
    "projectDate = '2017-01-11';\n",
    "projectRoot = '/Volumes/HD-1/Users/paulmiddlebrooks/perceptualchoice_stop_spikes_population';\n",
    "\n",
    "addpath(genpath(fullfile(projectRoot,'src/code',projectDate)));\n",
    "dataPath = fullfile(projectRoot,'data',projectDate,subject);\n",
    "\n"
   ]
  },
  {
   "cell_type": "markdown",
   "metadata": {},
   "source": [
    "## Specify if we are appending, and whether to use multi (or single) units"
   ]
  },
  {
   "cell_type": "code",
   "execution_count": null,
   "metadata": {
    "collapsed": true
   },
   "outputs": [],
   "source": [
    "append = false;\n",
    "multiUnit = true;\n"
   ]
  },
  {
   "cell_type": "markdown",
   "metadata": {},
   "source": [
    "###(optional) Append all the full-session population data files with new data OR skip to do a fresh one (next cell)"
   ]
  },
  {
   "cell_type": "code",
   "execution_count": null,
   "metadata": {
    "collapsed": true
   },
   "outputs": [],
   "source": [
    "subject = 'broca';\n",
    "\n",
    "append = true;\n",
    "\n",
    "ccm_classify_neuron_pop(subject,projectRoot,projectDate,append)\n",
    "\n",
    "ccm_neuron_choice_pop(subject,projectRoot,projectDate, append)\n",
    "\n",
    "ccm_neuron_stop_vs_go_pop(subject,projectRoot,projectDate, append)\n"
   ]
  },
  {
   "cell_type": "markdown",
   "metadata": {},
   "source": [
    "### Create a list of all units (so you can use parallel processing to classify the units in next step)"
   ]
  },
  {
   "cell_type": "markdown",
   "metadata": {},
   "source": [
    "_Output_:  \n",
    "`ccm_units.mat` in `.../data/<subject>/`"
   ]
  },
  {
   "cell_type": "code",
   "execution_count": null,
   "metadata": {
    "collapsed": true
   },
   "outputs": [],
   "source": [
    "\n",
    "ccm_list_units(subject,projectRoot,projectDate,append, multiUnit)\n"
   ]
  },
  {
   "cell_type": "markdown",
   "metadata": {},
   "source": [
    "### (OPTIONAL) Do you need to delete the last unit for any reason? If so, do it here"
   ]
  },
  {
   "cell_type": "code",
   "execution_count": null,
   "metadata": {
    "collapsed": true
   },
   "outputs": [],
   "source": [
    "deleteSession = 'jp125n04';\n",
    "\n",
    "\n",
    "% Delete from ccm_neuronTypes\n",
    "load(fullfile(dataPath, 'ccm_neuronTypes'))\n",
    "\n",
    "deleteInd = strcmp(neuronTypes.sessionID, deleteSession);\n",
    "neuronTypes(deleteInd, :) = [];\n",
    "save(fullfile(dataPath, 'ccm_neuronTypes'), 'neuronTypes')\n",
    "\n",
    "\n",
    "\n",
    "% Also go through main classification types and delete this session\n",
    "categoryList = {'fix', 'vis', 'checker', 'presacc', 'postsacc', 'reward', 'intertrial'};\n",
    "\n",
    "\n",
    "for j = 1 : length(categoryList)\n",
    "\n",
    "    load(fullfile(dataPath, ['ccm_',categoryList{j},'_neurons']), 'neurons')\n",
    "    deleteInd = strcmp(neurons.sessionID, deleteSession);\n",
    "    neurons(deleteInd, :) = [];\n",
    "    save(fullfile(dataPath, ['ccm_',categoryList{j},'_neurons']), 'neurons')\n",
    "end\n"
   ]
  },
  {
   "cell_type": "markdown",
   "metadata": {},
   "source": [
    "## Classify neurons"
   ]
  },
  {
   "cell_type": "markdown",
   "metadata": {},
   "source": [
    "_Output_:  \n",
    "`ccm_neuronTypes.mat` in `.../data/<subject>/`\n",
    "or\n",
    "`ccm_neuronTypes_multiUnit.mat` in `.../data/<subject>/`\n",
    "\n",
    "#### Also Prints pdfs of collapsed choice coherence for go trial of each unit"
   ]
  },
  {
   "cell_type": "code",
   "execution_count": null,
   "metadata": {
    "collapsed": true
   },
   "outputs": [],
   "source": [
    "opt = ccm_options;\n",
    "\n",
    "opt.parpoolSize = 4;\n",
    "opt.multiUnit = multiUnit;\n",
    "opt.append = append;\n",
    "\n",
    "\n",
    "\n",
    "ccm_classify_neuron_pop(subject,projectRoot,projectDate,opt)\n"
   ]
  },
  {
   "cell_type": "markdown",
   "metadata": {},
   "source": [
    "## Step 3 - Determine subset of neurons of a given classification"
   ]
  },
  {
   "cell_type": "markdown",
   "metadata": {},
   "source": [
    "##### Step 3.1 - Manually go through the automated list of neurons of a given category and make sure they pass the eyeball test"
   ]
  },
  {
   "cell_type": "markdown",
   "metadata": {},
   "source": [
    "_Goal_: A more accurate list of neurons of a given category, so population data is not tainted by neurons obviously not fit for the category (need to make a better automated way of doing this).  \n",
    "\n",
    "_Instructions_:  \n",
    "Alter ind and fileName to reflect the desired neuron population\n",
    "Paste code into matlab.\n",
    "\n",
    "_Output_:  \n",
    "`ccm_neuronTypes` in `.../data/<subject>/`"
   ]
  },
  {
   "cell_type": "code",
   "execution_count": null,
   "metadata": {
    "collapsed": true
   },
   "outputs": [],
   "source": [
    "%%matlab\n",
    "\n",
    "fileName = 'ccm_neuronTypes';\n",
    "if multiUnit\n",
    "    fileName = [fileName, '_multiUnit'];\n",
    "end\n",
    "\n",
    "load(fullfile(dataPath, fileName))\n"
   ]
  },
  {
   "cell_type": "markdown",
   "metadata": {},
   "source": [
    "## Walk through neurons to manually inspect and ensure proper modulation for given category\n",
    "###While you walk through, create a spreadsheet list (via google docs, e.g. or something to export as .cvs) of duplicates (to delete them in next step)"
   ]
  },
  {
   "cell_type": "code",
   "execution_count": null,
   "metadata": {
    "collapsed": true
   },
   "outputs": [],
   "source": [
    "%%matlab\n",
    "\n",
    "categoryName = 'presacc';\n",
    "\n",
    "\n",
    "% Establish options to send to ccm_session_data in the for loop below\n",
    "opt             = ccm_options;\n",
    "opt.howProcess  = 'print';\n",
    "opt.plotFlag    = true;\n",
    "opt.printPlot    = true;\n",
    "opt.dataType    = 'neuron';\n",
    "opt.collapseTarg \t= true;\n",
    "opt.collapseSignal \t= true;\n",
    "opt.doStops \t= false;\n",
    "\n",
    "\n",
    "\n",
    "if append\n",
    "    % Option to load previous neurons table and add to it\n",
    "    \n",
    "    % Reduce the neuronTypes table to only those in this categoryName\n",
    "    neuronTypes = neuronTypes(logical(neuronTypes.(categoryName)), :);\n",
    "    \n",
    "    % What's the last session/unit in the list?\n",
    "    load(fullfile(dataPath, ['ccm_',categoryName,'_neurons']))\n",
    "    lastSess = neurons.sessionID(end);\n",
    "    lastUnit = neurons.unit(end);\n",
    "    \n",
    "    % Find the last categorized neuron and start at the next (appended) one\n",
    "    \n",
    "    \n",
    "    \n",
    "    \n",
    "    sessionInd = 1:size(neuronTypes, 1);\n",
    "    lastInd = find(ismember(neuronTypes.sessionID(sessionInd), lastSess) & ismember(neuronTypes.unit(sessionInd), lastUnit));\n",
    "    startInd = lastInd(end) + 1;\n",
    "else\n",
    "    % Otherwise start a new table for this category\n",
    "    ind = neuronTypes.(categoryName);\n",
    "    neurons = table();\n",
    "    startInd = 1;\n",
    "    sessionInd = find(ind);\n",
    "end\n",
    "\n",
    "\n",
    "for i = startInd : length(sessionInd)\n",
    "    unitInfo = table();\n",
    "    unitInfo.sessionID  = neuronTypes.sessionID(sessionInd(i));\n",
    "    unitInfo.unit       = neuronTypes.unit(sessionInd(i));\n",
    "    unitInfo.hemisphere  = neuronTypes.hemisphere(sessionInd(i));\n",
    "    unitInfo.rf         = neuronTypes.rf(sessionInd(i));\n",
    "    \n",
    "    fprintf('%02d of %d\\t%s\\t%s\\n',i,length(sessionInd), neuronTypes.sessionID{sessionInd(i)},neuronTypes.unit{sessionInd(i)})\n",
    "    fprintf('Hem: %s\\tRF: %s\\n',neuronTypes.hemisphere{sessionInd(i)},neuronTypes.rf{sessionInd(i)})\n",
    "    \n",
    "    opt.unitArray = unitInfo.unit;\n",
    "    opt.hemisphere = neuronTypes.hemisphere{sessionInd(i)};\n",
    "    opt.multiUnit = multiUnit;\n",
    "    \n",
    "    pdfName = [neuronTypes.sessionID{sessionInd(i)},'_ccm_',neuronTypes.unit{sessionInd(i)},'_neuron_collapse.pdf'];\n",
    "    if exist(fullfile(local_figure_path,subject,'sessionCollapseChoice',pdfName))\n",
    "      open(fullfile(local_figure_path,subject,'sessionCollapseChoice',pdfName))\n",
    "    else\n",
    "      iData = ccm_session_data(subject, neuronTypes.sessionID{sessionInd(i)}, opt);\n",
    "    end\n",
    "    \n",
    "    \n",
    "    prompt = 'add to list?';\n",
    "    addToList = input(prompt);\n",
    "    if addToList\n",
    "        \n",
    "        neurons = [neurons; unitInfo];\n",
    "        \n",
    "    end\n",
    "    clear iData\n",
    "end\n",
    "\n",
    "save(fullfile(dataPath, ['ccm_',categoryName,'_neurons']), 'neurons')\n",
    "\n"
   ]
  },
  {
   "cell_type": "markdown",
   "metadata": {},
   "source": [
    "### Loop through the main categories and get rid of duplicates (from the duplicates list made above)\n",
    "Duplicates will stay in the main neuronTypes list in ccm_neuronTypes.mat. But they'll be removed from each activity category of neurons (ccm_presacc_neurons.mat, e.g.)"
   ]
  },
  {
   "cell_type": "code",
   "execution_count": null,
   "metadata": {
    "collapsed": true
   },
   "outputs": [],
   "source": [
    "%%  Get rid of known duplicate units for classification\n",
    "\n",
    "categoryList = {'fix', 'vis', 'checker', 'presacc', 'postsacc', 'reward', 'intertrial'};\n",
    "\n",
    "% Open the sessions file and makes lists of the entries\n",
    "fid=  fopen(fullfile(dataPath,['ccm_duplicate_units.csv']));\n",
    "\n",
    "nCol = 2;\n",
    "formatSpec = '%s';\n",
    "mHeader = textscan(fid, formatSpec, nCol, 'Delimiter', ',');\n",
    "\n",
    "mData = textscan(fid, '%s %s', 'Delimiter', ',','TreatAsEmpty',{'NA','na'});\n",
    "\n",
    "sessionList     = mData{1};\n",
    "unitList  = mData{2};\n",
    "\n",
    "for j = 1 : length(categoryList)\n",
    "\n",
    "    load(fullfile(dataPath, ['ccm_',categoryList(j),'_neurons']), 'neurons')\n",
    "\n",
    "    for i = 1 : size(sessionList, 1)\n",
    "        check = find(strcmp(neurons.sessionID, sessionList(i)) & strcmp(neurons.unit, unitList(i)));\n",
    "        if isempty(check)\n",
    "            fprintf('%s\\t%s is not a neuron apparently: check it again\\n', sessionList{i}, unitList{i})\n",
    "        end\n",
    "        neurons(strcmp(neurons.sessionID, sessionList(i)) & strcmp(neurons.unit, unitList(i)), :) = [];\n",
    "    end\n",
    "end"
   ]
  },
  {
   "cell_type": "markdown",
   "metadata": {},
   "source": [
    "## Use lists above to determine subsets"
   ]
  },
  {
   "cell_type": "markdown",
   "metadata": {},
   "source": [
    "###Vis-presacc, Vis-only, and Presacc-only"
   ]
  },
  {
   "cell_type": "code",
   "execution_count": null,
   "metadata": {
    "collapsed": true
   },
   "outputs": [],
   "source": [
    "p = load(fullfile(dataPath, ['ccm_presacc_neurons']));   % Loads neurons\n",
    "v = load(fullfile(dataPath, ['ccm_vis_neurons']));   % Loads neurons\n",
    "\n",
    "\n",
    "% Visual Presaccadic\n",
    "neurons = intersect(p.neurons, v.neurons);\n",
    "save(fullfile(dataPath, ['ccm_visPresacc_neurons']), 'neurons')\n",
    "\n"
   ]
  },
  {
   "cell_type": "code",
   "execution_count": null,
   "metadata": {
    "collapsed": true
   },
   "outputs": [],
   "source": [
    "% Visual-only, Presacc-only\n",
    "[i ia ib] = setxor(p.neurons, v.neurons);\n",
    "\n",
    "neurons = v.neurons(ib,:);\n",
    "save(fullfile(dataPath, ['ccm_visNoPresacc_neurons']), 'neurons')\n",
    "\n",
    "neurons = p.neurons(ia,:);\n",
    "save(fullfile(dataPath, ['ccm_presaccNoVis_neurons']), 'neurons')\n"
   ]
  },
  {
   "cell_type": "markdown",
   "metadata": {},
   "source": [
    "###Presacc ramping with little/no post-sacc and presacc > 4 standard deviations above fixation baseline"
   ]
  },
  {
   "cell_type": "code",
   "execution_count": null,
   "metadata": {
    "collapsed": true
   },
   "outputs": [],
   "source": [
    "%%matlab\n",
    "load(fullfile(dataPath, 'ccm_neuronTypes'))\n",
    "ind = logical(neuronTypes.presaccRamp);\n",
    "\n",
    "neurons = neuronTypes(ind, 1:4);\n",
    "save(fullfile(dataPath, ['ccm_presaccRamp_neurons']), 'neurons')\n"
   ]
  },
  {
   "cell_type": "markdown",
   "metadata": {},
   "source": [
    "###Presacc with no Postsacc, Postsacc with no Presacc"
   ]
  },
  {
   "cell_type": "code",
   "execution_count": null,
   "metadata": {
    "collapsed": true
   },
   "outputs": [],
   "source": [
    "pre = load(fullfile(dataPath, ['ccm_presacc_neurons']));   % Loads neurons\n",
    "post = load(fullfile(dataPath, ['ccm_postsacc_neurons']));   % Loads neurons\n",
    "\n",
    "[i ia ib] = setxor(pre.neurons, post.neurons);\n",
    "\n",
    "neurons = pre.neurons(ia,:);\n",
    "save(fullfile(dataPath, ['ccm_presaccNoPostsacc_neurons']), 'neurons')\n",
    "\n",
    "neurons = post.neurons(ib,:);\n",
    "save(fullfile(dataPath, ['ccm_postsaccNoPresacc_neurons']), 'neurons')\n"
   ]
  },
  {
   "cell_type": "markdown",
   "metadata": {},
   "source": [
    "###Others?"
   ]
  },
  {
   "cell_type": "markdown",
   "metadata": {},
   "source": [
    "### Step 3.2 - Process the list of sessions to get population data"
   ]
  },
  {
   "cell_type": "code",
   "execution_count": null,
   "metadata": {
    "collapsed": true
   },
   "outputs": [],
   "source": [
    "%% matlab\n",
    "\n",
    "categoryList = {'presacc', 'visNoPresacc', 'presaccNoVis', 'visPresacc', 'presaccRamp', 'postsaccNoPresacc'};\n",
    "categoryList = {'vis'};\n",
    "for i = 1 : length(categoryList)\n",
    "    clear Data\n",
    "    load(fullfile(dataPath, ['ccm_',categoryList{i},'_neurons']))\n",
    "\n",
    "    opt             = ccm_options;\n",
    "    opt.categoryName = categoryList{i};\n",
    "    opt.sessionArray = neurons.sessionID;\n",
    "    opt.unitArray   = neurons.unit;\n",
    "    opt.rfList      = neurons.rf;\n",
    "    opt.hemisphereList      = neurons.hemisphere;\n",
    "    \n",
    "    opt.sessionSet  = [];\n",
    "    opt.howProcess  = 'print';\n",
    "    opt.plotFlag    = false;\n",
    "    opt.dataType    = 'neuron';\n",
    "    opt.collapseTarg \t= true;\n",
    "    opt.doStops \t= true;\n",
    "    opt.multiUnit \t= multiUnit;\n",
    "\n",
    "    Data = ccm_population_neuron(subject,projectRoot,projectDate, opt)\n",
    "\n",
    "    \n",
    "end\n"
   ]
  },
  {
   "cell_type": "markdown",
   "metadata": {},
   "source": [
    "# POPULATION NEURAL RESPONSES ON STOP TRIALS \n"
   ]
  },
  {
   "cell_type": "code",
   "execution_count": null,
   "metadata": {
    "collapsed": true
   },
   "outputs": [],
   "source": [
    "categoryName = 'presacc';\n",
    "opt = ccm_options;\n",
    "opt.categoryName = categoryName;\n",
    "\n",
    "ccm_neuron_inhibition_population(subject,projectRoot,projectDate,opt)\n"
   ]
  },
  {
   "cell_type": "markdown",
   "metadata": {},
   "source": [
    "# PROCEED TO CHOICE ANALYSES NOTEBOOK"
   ]
  }
 ],
 "metadata": {
  "kernelspec": {
   "display_name": "Python 2",
   "language": "python",
   "name": "python2"
  },
  "language_info": {
   "codemirror_mode": {
    "name": "ipython",
    "version": 2
   },
   "file_extension": ".py",
   "mimetype": "text/x-python",
   "name": "python",
   "nbconvert_exporter": "python",
   "pygments_lexer": "ipython2",
   "version": "2.7.13"
  }
 },
 "nbformat": 4,
 "nbformat_minor": 0
}
