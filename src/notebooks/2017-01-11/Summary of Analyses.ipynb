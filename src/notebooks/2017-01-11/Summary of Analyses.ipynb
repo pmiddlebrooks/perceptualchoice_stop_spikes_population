{
 "cells": [
  {
   "cell_type": "markdown",
   "metadata": {},
   "source": [
    "#Summary Analyses"
   ]
  },
  {
   "cell_type": "code",
   "execution_count": 1,
   "metadata": {
    "collapsed": false
   },
   "outputs": [
    {
     "ename": "SyntaxError",
     "evalue": "invalid syntax (<ipython-input-1-dc7a2022653b>, line 5)",
     "output_type": "error",
     "traceback": [
      "\u001b[0;36m  File \u001b[0;32m\"<ipython-input-1-dc7a2022653b>\"\u001b[0;36m, line \u001b[0;32m5\u001b[0m\n\u001b[0;31m    ddmType = 'ddmRankMean';  % ddm coherence determined by comparing means of easy vs hard spike rates into RF (and out)\u001b[0m\n\u001b[0m                              ^\u001b[0m\n\u001b[0;31mSyntaxError\u001b[0m\u001b[0;31m:\u001b[0m invalid syntax\n"
     ]
    }
   ],
   "source": [
    "deleteSessions = true;\n",
    "deleteUnmodulated = true;\n",
    "saccadeBaseRatio = [];\n",
    "\n",
    "ddmType = 'ddmRankMean';  % ddm coherence determined by comparing means of easy vs hard spike rates into RF (and out)\n",
    "ddmType = 'ddm';  % ddm coherence determined by ranksum test and slopes of means easy vs hard rates into RF (and out)\n",
    "\n",
    "\n",
    "sortByElectrode = false;\n",
    "electrode = 'uprobe';\n",
    "channels = [32];\n",
    "\n",
    "\n",
    "\n",
    "dataPath = fullfile(projectRoot,'data',projectDate,subject);\n",
    "\n",
    "\n",
    "% Choose the categories of neurons to compare\n",
    "ddmEpoch = 'Stim';\n",
    "\n",
    "classicEpoch = 'presacc';\n",
    "cancelEpoch = 'presacc_cancel';\n",
    "\n",
    "\n",
    "sessionRemove = ccm_exclude_sessions(subject);\n",
    "sessionKeep = ccm_session_by_electrode(subject,projectRoot,projectDate, electrode, channels);\n",
    "\n",
    "\n",
    "\n",
    "% LOAD ALL RELEVANT DATA AND LISTS\n",
    "\n",
    "% Load full popuulation of neurons\n",
    "load(fullfile(dataPath, ['ccm_neuronTypes', addMulti]));\n",
    "if deleteSessions\n",
    "    neuronTypes = neuronTypes(~ismember(neuronTypes.sessionID, sessionRemove),:);\n",
    "end\n",
    "\n",
    "% Figure out how many modulated units there were (modulation of some kind)\n",
    "modulatedList   = {'fix','vis','checker','presacc','postsacc'};\n",
    "nModulated      = 0;\n",
    "modulatedInd    = zeros(size(neuronTypes, 1));\n",
    "modTable        = neuronTypes(1,1:4); % Table to concatenate all modulated units\n",
    "modTable(1,:) = [];\n",
    "for i = 1 : length(modulatedList)\n",
    "    \n",
    "    % Open the edited list version of the units\n",
    "    c = load(fullfile(dataPath, ['ccm_',modulatedList{i},'_neurons', addMulti]));\n",
    "    classic = c.neurons;\n",
    "    if deleteSessions\n",
    "        classic = classic(~ismember(classic.sessionID, sessionRemove),:);\n",
    "    end\n",
    "    if sortByElectrode\n",
    "        classic = classic(ismember(classic.sessionID, sessionKeep),:);\n",
    "    end\n",
    "    \n",
    "    % Add modulated units to modTable\n",
    "    [~, ~, iClassic] = setxor(modTable, classic);\n",
    "    modTable = [modTable; classic(iClassic,:)];\n",
    "    size(modTable)\n",
    "    \n",
    "%    [C, neuronTypesInd,ib] = intersect(neuronTypes(:,1:4),classic);\n",
    "%   neuronTypesLogic = zeros(size(neuronTypes, 1));\n",
    "%    neuronTypesLogic(neuronTypesInd) = 1;\n",
    "%    modulatedInd = modulatedInd | neuronTypesLogic;\n",
    "end    \n",
    "nModulated = size(modTable, 1)\n",
    "\n",
    "    \n",
    "    \n",
    "    \n",
    "%{\n",
    "if deleteUnmodulated\n",
    "    modulated = neuronTypes.fix | neuronTypes.vis | neuronTypes.checker | neuronTypes.presacc | neuronTypes.postsacc;\n",
    "    neuronTypes = neuronTypes(modulated,:);\n",
    "end\n",
    "nModulated = size(neuronTypes, 1);\n",
    "\n",
    "if sortByElectrode\n",
    "    neuronTypes = neuronTypes(ismember(neuronTypes.sessionID, sessionKeep),:);\n",
    "end\n",
    "if ~isempty(saccadeBaseRatio)\n",
    "    includeInd = neuronTypes.saccadeBaseRatio >= saccadeBaseRatio;\n",
    "    keepUnit = neuronTypes(includeInd, 1:4);\n",
    "    neuronTypes = neuronTypes(includeInd,:);\n",
    "end\n",
    "\n",
    "nUnit = size(neuronTypes, 1);\n",
    "clear neuronTypes\n",
    "%}\n",
    "\n",
    "\n",
    "\n",
    "% Load Classic neuron classifications\n",
    "c = load(fullfile(dataPath, ['ccm_',classicEpoch,'_neurons', addMulti]));\n",
    "classic = c.neurons;\n",
    "if deleteSessions\n",
    "    classic = classic(~ismember(classic.sessionID, sessionRemove),:);\n",
    "end\n",
    "if sortByElectrode\n",
    "    classic = classic(ismember(classic.sessionID, sessionKeep),:);\n",
    "end\n",
    "if ~isempty(saccadeBaseRatio)\n",
    "    classic = intersect(classic, keepUnit);\n",
    "end\n",
    "\n",
    "\n",
    "\n",
    "% Load ddm neuron classifications\n",
    "dg = load(fullfile(dataPath, ['ccm_',ddmType, ddmEpoch, '_neurons', addMulti]));\n",
    "ddm = dg.neurons;\n",
    "if deleteSessions\n",
    "    ddm = ddm(~ismember(ddm.sessionID, sessionRemove),:);\n",
    "end\n",
    "if sortByElectrode\n",
    "    ddm = ddm(ismember(ddm.sessionID, sessionKeep),:);\n",
    "end\n",
    "if ~isempty(saccadeBaseRatio)\n",
    "    ddm = intersect(ddm, keepUnit);\n",
    "end\n",
    "\n",
    "\n",
    "\n",
    "\n",
    "\n",
    "% Load Cancel Time population \n",
    "ca = load(fullfile(dataPath, ['ccm_',cancelEpoch,'_neurons', addMulti]));\n",
    "cancel = ca.neurons;\n",
    "if deleteSessions\n",
    "    cancel = cancel(~ismember(cancel.sessionID, sessionRemove),:);\n",
    "end\n",
    "if sortByElectrode\n",
    "    cancel = cancel(ismember(cancel.sessionID, sessionKeep),:);\n",
    "end\n",
    "if ~isempty(saccadeBaseRatio)\n",
    "    cancel = intersect(cancel, keepUnit);\n",
    "end\n",
    "\n",
    "\n",
    "\n",
    "[~, iCla, iDdm] = setxor(classic, ddm);\n",
    "classicDdm = intersect(classic, ddm);\n",
    "classicNoDdm = classic(iCla, :);\n",
    "ddmNoClassic = ddm(iDdm, :);\n",
    "\n",
    "\n",
    "[~, iCla, iCan] = setxor(classic, cancel);\n",
    "classicCancel = intersect(classic, cancel);\n",
    "classicNoCancel = classic(iCla, :);\n",
    "cancelNoClassic = ddm(iCan, :);\n",
    "\n",
    "\n",
    "[~, iCla, iBoth] = setxor(cancel, classicDdm);\n",
    "classicCancelNoDdm = cancel(iCla,:);\n",
    "classicDdmNoCancel = classicDdm(iBoth,:);\n",
    "classicDdmCancel = intersect(classicDdm, cancel);\n",
    "\n",
    "classicNoDdmNoCancel = intersect(classicNoDdm, classicNoCancel);\n"
   ]
  },
  {
   "cell_type": "markdown",
   "metadata": {},
   "source": [
    "###Print out percentages of the relevant neuron categories"
   ]
  },
  {
   "cell_type": "code",
   "execution_count": null,
   "metadata": {
    "collapsed": true
   },
   "outputs": [],
   "source": [
    "fprintf('\\nTotal Modulated Units:\\t%d\\n', nModulated)\n",
    "\n",
    "fprintf('\\n%s:\\t%d\\t%.1f%% of total\\n', classicEpoch, size(classic, 1), size(classic, 1)*100/nModulated)\n",
    "\n",
    "fprintf('DDM-%s:\\t%d\\t%.1f%% of total\\n', ddmEpoch, size(ddm, 1), size(ddm, 1)*100/nModulated)\n",
    "\n",
    "fprintf('%s and DDM-%s:\\t%d\\t%.1f%% of total,\\t%.1f%% of %s,\\t%.1f%% of DDM-%s\\n', classicEpoch, ddmEpoch, size(classicDdm, 1), size(classicDdm, 1)*100/nModulated, size(classicDdm, 1)*100/size(classic, 1), classicEpoch, size(classicDdm, 1)*100/size(ddm, 1), ddmEpoch)\n",
    "\n",
    "fprintf('%s and %s:\\t%d\\t%.1f%% of total,\\t%.1f%% of %s\\n', classicEpoch, cancelEpoch, size(classicCancel, 1), size(classicCancel, 1)*100/nModulated, size(classicCancel, 1)*100/size(classic, 1), classicEpoch)\n",
    "\n",
    "fprintf('%s and %s and DDM-%s:\\t%d\\t%.1f%% of total,\\t%.1f%% of %s,\\t%.1f%% of DDM-%s\\n', classicEpoch, cancelEpoch, ddmEpoch, size(classicDdmCancel, 1), size(classicDdmCancel, 1)*100/nModulated, size(classicDdmCancel, 1)*100/size(classic, 1), classicEpoch, size(classicDdmCancel, 1)*100/size(ddm, 1), ddmEpoch)\n"
   ]
  },
  {
   "cell_type": "markdown",
   "metadata": {},
   "source": [
    "## Make a Venn diagram of the results"
   ]
  },
  {
   "cell_type": "code",
   "execution_count": 1,
   "metadata": {
    "collapsed": false
   },
   "outputs": [
    {
     "ename": "SyntaxError",
     "evalue": "invalid syntax (<ipython-input-1-d9d96494dec9>, line 1)",
     "output_type": "error",
     "traceback": [
      "\u001b[0;36m  File \u001b[0;32m\"<ipython-input-1-d9d96494dec9>\"\u001b[0;36m, line \u001b[0;32m1\u001b[0m\n\u001b[0;31m    A = [size(classic, 1) size(cancel, 1) size(ddm, 1)];\u001b[0m\n\u001b[0m                             ^\u001b[0m\n\u001b[0;31mSyntaxError\u001b[0m\u001b[0;31m:\u001b[0m invalid syntax\n"
     ]
    }
   ],
   "source": [
    "A = [size(classic, 1) size(cancel, 1) size(ddm, 1)];\n",
    "I = [size(classicCancel, 1) size(classicDdm, 1) size(classicDdmCancel, 1) size(classicDdmCancel, 1)];\n",
    "\n",
    "figureHandle = figure(1)\n",
    "clf\n",
    "axis equal, axis off\n",
    "venn(A,I,'FaceColor',{'r','y','b'},'FaceAlpha',{.5,0.6,0.2},'EdgeColor','black')\n",
    "\n",
    "\n",
    "\n",
    "filePath = fullfile(projectRoot,'results',projectDate,subject);\n",
    "\n",
    "if ~isempty(saccadeBaseRatio)\n",
    "    appendBase = '_saccBaseRatio_';\n",
    "else\n",
    "    appendBase = [];\n",
    "end\n",
    "if multiUnit\n",
    "    addMulti = '_multiUnit';\n",
    "else\n",
    "    addMulti = [];\n",
    "end\n",
    "if normalizeData\n",
    "    addNorm = '_normalized';\n",
    "else\n",
    "    addNorm = [];\n",
    "end\n",
    "\n",
    "addDdm = ['_',ddmType,'_'];\n",
    "\n",
    "fileName = ['venn_',classicEpoch,addDdm,addMulti,addNorm,appendBase,'.eps'];\n",
    "\n",
    "    print(figureHandle, fullfile(filePath, fileName),'-depsc', '-r300')\n"
   ]
  },
  {
   "cell_type": "code",
   "execution_count": null,
   "metadata": {
    "collapsed": true
   },
   "outputs": [],
   "source": [
    "\n"
   ]
  }
 ],
 "metadata": {
  "kernelspec": {
   "display_name": "Python 2",
   "language": "python",
   "name": "python2"
  },
  "language_info": {
   "codemirror_mode": {
    "name": "ipython",
    "version": 2
   },
   "file_extension": ".py",
   "mimetype": "text/x-python",
   "name": "python",
   "nbconvert_exporter": "python",
   "pygments_lexer": "ipython2",
   "version": "2.7.13"
  }
 },
 "nbformat": 4,
 "nbformat_minor": 0
}
