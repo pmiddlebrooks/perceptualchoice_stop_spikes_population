{
 "cells": [
  {
   "cell_type": "markdown",
   "metadata": {},
   "source": [
    "### Compare units that canceled with DDM-like units for this category"
   ]
  },
  {
   "cell_type": "markdown",
   "metadata": {},
   "source": [
    "####Output: ccm_category_neurons.mat files"
   ]
  },
  {
   "cell_type": "code",
   "execution_count": null,
   "metadata": {
    "collapsed": true
   },
   "outputs": [],
   "source": [
    "dataPath = fullfile(projectRoot,'data',projectDate,subject);\n",
    "\n",
    "cEpochList = {'presacc','presaccNoVis','presaccRamp','visPresacc','presaccNoPostsacc','presaccPeak'};\n",
    "dgEpochList = {'Stim','Sacc','Post'};\n",
    "\n",
    "cEpochList = {'presaccRamp','presaccPeak'};\n",
    "cEpochList = {'presacc'};\n",
    "dgEpochList = {'Stim'};\n",
    "cancelEpoch = 'presacc_cancel';\n",
    "\n",
    "cancelType = 'meanSdf'\n",
    "% cancelType = 'postSsrt'\n",
    "\n",
    "for i = 1 : length(cEpochList)\n",
    "    for j = 1 : length(dgEpochList)\n",
    "        \n",
    "        dgEpoch = dgEpochList{j};\n",
    "        cEpoch = cEpochList{i};\n",
    "\n",
    "\n",
    "\n",
    "\n",
    "        % LOAD ALL RELEVANT DATA AND LISTS\n",
    "\n",
    "        % Load Classic neuron classifications\n",
    "        cFileName = fullfile(dataPath, ['ccm_',cEpochList{i},'_neurons', addMulti]);\n",
    "        c = load(cFileName);\n",
    "        classic = c.neurons;\n",
    "        \n",
    "        % Load Ding and gold (choice) neuron classifications\n",
    "        dgFileName = fullfile(dataPath, ['ccm_',ddmType, dgEpochList{j}, '_neurons', addMulti]);\n",
    "        dg = load(dgFileName);\n",
    "        ddm = dg.neurons;\n",
    "\n",
    "\n",
    "        % Load Cancel neuron classifications \n",
    "        caFileName = fullfile(dataPath, ['ccm_',cancelEpoch,'_',cancelType,'_neurons', addMulti]);\n",
    "        ca = load(caFileName);\n",
    "        cancel = ca.neurons;\n",
    "\n",
    "\n",
    "        \n",
    "        \n",
    "        if deleteSessions\n",
    "            sessionRemove = ccm_exclude_sessions(subject);\n",
    "            classic = classic(~ismember(classic.sessionID, sessionRemove),:);\n",
    "            ddm = ddm(~ismember(ddm.sessionID, sessionRemove),:);\n",
    "            cancel = cancel(~ismember(cancel.sessionID, sessionRemove),:);\n",
    "        end\n",
    "\n",
    "\n",
    "        \n",
    "        \n",
    "        [~, iCla, iDdm] = setxor(classic, ddm);\n",
    "        classicDdm = intersect(classic, ddm);\n",
    "        classicNoDdm = classic(iCla, :);\n",
    "        ddmNoClassic = ddm(iDdm, :);\n",
    "\n",
    "\n",
    "        [~, iCla, iCan] = setxor(classic, cancel);\n",
    "        classicCancel = intersect(classic, cancel);\n",
    "        classicNoCancel = classic(iCla, :);\n",
    "        cancelNoClassic = cancel(iCan, :);\n",
    "\n",
    "\n",
    "        [~, iCan, iDdm] = setxor(cancel, classicDdm);\n",
    "        classicDdmCancel = intersect(classicDdm, cancel);\n",
    "        classicCancelNoDdm = cancel(iCan,:);\n",
    "        classicDdmNoCancel = classicDdm(iDdm,:);\n",
    "\n",
    "        classicNoDdmNoCancel = intersect(classicNoDdm, classicNoCancel);\n",
    "        \n",
    "\n",
    "        % Save the units as population data, to be called later efficiently\n",
    "        neurons = classicDdm;\n",
    "        save(fullfile(dataPath, ['ccm_',cEpochList{i},'_', ddmType, dgEpochList{j},'_neurons', addMulti]), 'neurons')\n",
    "\n",
    "        neurons = classicNoDdm;\n",
    "        save(fullfile(dataPath, ['ccm_',cEpochList{i},'_no', ddmType, dgEpochList{j},'_neurons', addMulti]), 'neurons')\n",
    "\n",
    "        neurons = ddmNoClassic;\n",
    "        save(fullfile(dataPath, ['ccm_',ddmType,dgEpochList{j},'_no',cEpochList{i},'_neurons', addMulti]), 'neurons')\n",
    "\n",
    "        neurons = cancelNoClassic;\n",
    "        save(fullfile(dataPath, ['ccm_cancel_',cancelType,'_no',cEpochList{i},'_neurons', addMulti]), 'neurons')\n",
    "\n",
    "        neurons = classicDdmCancel;\n",
    "        save(fullfile(dataPath, ['ccm_',cEpochList{i},'_', ddmType, dgEpochList{j},'_cancel_',cancelType,'_neurons', addMulti]), 'neurons')\n",
    "\n",
    "        neurons = classicCancelNoDdm;\n",
    "        save(fullfile(dataPath, ['ccm_',cEpochList{i},'_cancel_',cancelType,'_no',ddmType,dgEpochList{j},'_neurons', addMulti]), 'neurons')\n",
    "\n",
    "        neurons = classicDdmNoCancel;\n",
    "        save(fullfile(dataPath, ['ccm_',cEpochList{i},'_',ddmType,dgEpochList{j},'_noCancel_',cancelType,'_neurons', addMulti]), 'neurons')\n",
    "\n",
    "        neurons = classicNoDdmNoCancel;\n",
    "        save(fullfile(dataPath, ['ccm_',cEpochList{i},'_no',ddmType,dgEpochList{j},'_noCancel_',cancelType,'_neurons', addMulti]), 'neurons')\n",
    "\n",
    "\n",
    "    end\n",
    "end\n",
    "\n"
   ]
  },
  {
   "cell_type": "markdown",
   "metadata": {},
   "source": [
    "## Make a table of all the units with their ddm X cancel classification"
   ]
  },
  {
   "cell_type": "code",
   "execution_count": null,
   "metadata": {
    "collapsed": true
   },
   "outputs": [],
   "source": [
    "        % Load each list and build table\n",
    "        categoryList = {'presacc_ddmRankMeanStim_cancel_meanSdf','presacc_cancel_meanSdf_noddmRankMeanStim','presacc_ddmRankMeanStim_noCancel_meanSdf','presacc_noddmRankMeanStim_noCancel_meanSdf'};\n",
    "        categoryString = {'ddm_cancel','noddm_cancel','ddm_nocancel','noddm_nocancel'};\n",
    "\n",
    "        categoryTable = table();\n",
    "        for i = 1 : length(categoryList)   \n",
    "            load(fullfile(dataPath, ['ccm_',categoryList{i},'_neurons',addMulti]))\n",
    "            iTable = [neurons.sessionID, neurons.unit, cell2table(cellstr(repmat(categoryString{i}, size(neurons, 1), 1)))];\n",
    "            size(iTable)\n",
    "            categoryTable = [categoryTable; iTable];\n",
    "        end\n",
    "        categoryTable.Properties.VariableNames = {'sessionID', 'unit', 'category'}\n"
   ]
  },
  {
   "cell_type": "markdown",
   "metadata": {},
   "source": [
    "### Save the table as a CSV"
   ]
  },
  {
   "cell_type": "code",
   "execution_count": null,
   "metadata": {
    "collapsed": true
   },
   "outputs": [],
   "source": [
    "\n",
    "writetable(categoryTable, fullfile(dataPath, [subject,'_ddm_cancel_units.csv']))\n"
   ]
  },
  {
   "cell_type": "markdown",
   "metadata": {},
   "source": [
    "## Make a table of all the units with their ddm X cancel classification, all cancel data, and all ddm data"
   ]
  },
  {
   "cell_type": "code",
   "execution_count": null,
   "metadata": {
    "collapsed": true
   },
   "outputs": [],
   "source": [
    "% Load the population choice analysis\n",
    "epochList = {'Stim'};\n",
    "fileName = fullfile(dataPath, ['ccm_ddm',epochList{1},'_neuronTypes', addMulti]);\n",
    "load(fileName)  % Loads neuronTypes table\n",
    "\n",
    "% load the population of cancel time anlysis\n",
    "fileName = fullfile(dataPath, 'go_vs_canceled', ssrtUse, ['ccm_canceled_vs_go_neuronTypes', addMulti]);\n",
    "load(fileName)  % Loads the cancelTypes table\n",
    "\n",
    "session = [];\n",
    "unit = [];\n",
    "category = [];\n",
    "hemisphere = [];\n",
    "rf = [];\n",
    "ssd = [];\n",
    "ssrt = [];\n",
    "coherence = [];\n",
    "easyHard = [];\n",
    "nStop = [];\n",
    "pValue40msStopStop = [];\n",
    "cancelTime2Std = [];\n",
    "cancelTimeSdf = [];\n",
    "targToStopDiffSD = [];\n",
    "preSaccDiffSD = [];\n",
    "\n",
    "% Loop through the neurons list and fill out a table\n",
    "for i = 1 : size(categoryTable, 1)\n",
    "    \n",
    "    % Find the index in the choice data\n",
    "    iChoiceInd = strcmp(neuronTypes.sessionID, categoryTable.sessionID(i)) & strcmp(neuronTypes.unit, categoryTable.unit(i));\n",
    "    \n",
    "    % Find the index in the cancel data: should be same as choice data index\n",
    "    iCancelInd = strcmp(cancelTypes.sessionID, categoryTable.sessionID(i)) & strcmp(cancelTypes.unit, categoryTable.unit(i));\n",
    "    \n",
    "    % How many conditions per neuron, as per the cancelTypes table data?\n",
    "    nRep = size(cancelTypes.stopStopSsd{iCancelInd}, 1);\n",
    "    \n",
    "    % Data from the categoryTable (ddmXcancel labels)\n",
    "    session = [session; repmat(categoryTable.sessionID(i), nRep, 1)];\n",
    "    unit = [unit; repmat(categoryTable.unit(i), nRep, 1)];\n",
    "    category = [category; repmat(categoryTable.category(i), nRep, 1)];\n",
    "    \n",
    "    % Data from the neuronTypes choice data\n",
    "    hemisphere = [hemisphere; repmat(neuronTypes.hemisphere(iChoiceInd), nRep, 1)];\n",
    "\n",
    "\n",
    "    % Data from the cancelTypes choice data\n",
    "    rf = [rf; repmat(cancelTypes.rf(iCancelInd), nRep, 1)];\n",
    "    ssd = [ssd; cancelTypes.stopStopSsd{iCancelInd}];\n",
    "    ssrt = [ssrt; cancelTypes.stopStopSsrt{iCancelInd}];\n",
    "    coherence = [coherence; cancelTypes.stopStopCoh{iCancelInd}];\n",
    "    easyHard = [easyHard; cancelTypes.stopStopCond{iCancelInd}];\n",
    "    nStop = [nStop; cancelTypes.nStopStop{iCancelInd}];\n",
    "    pValue40msStopStop = [pValue40msStopStop; cancelTypes.pValue40msStopStop{iCancelInd}];\n",
    "    cancelTime2Std = [cancelTime2Std; cancelTypes.cancelTime2Std{iCancelInd}];\n",
    "    cancelTimeSdf = [cancelTimeSdf; cancelTypes.cancelTimeSdf{iCancelInd}];\n",
    "    targToStopDiffSD = [targToStopDiffSD; cancelTypes.targToStopDiffSD{iCancelInd}];\n",
    "    preSaccDiffSD = [preSaccDiffSD; cancelTypes.preSaccDiffSD{iCancelInd}];\n",
    "   \n",
    "end\n",
    "\n",
    "ddmCancelData = table(session, unit, category, hemisphere, rf, ssd, ssrt, coherence, easyHard,...\n",
    "                      nStop, pValue40msStopStop, cancelTime2Std, cancelTimeSdf, targToStopDiffSD, preSaccDiffSD);\n",
    "\n"
   ]
  },
  {
   "cell_type": "markdown",
   "metadata": {},
   "source": [
    "### Save the table as a CSV"
   ]
  },
  {
   "cell_type": "code",
   "execution_count": null,
   "metadata": {
    "collapsed": true
   },
   "outputs": [],
   "source": [
    "\n",
    "writetable(ddmCancelData, fullfile(dataPath, [subject,'_ddm_cancel_data.csv']))\n"
   ]
  },
  {
   "cell_type": "markdown",
   "metadata": {},
   "source": [
    "##Population plots\n"
   ]
  },
  {
   "cell_type": "code",
   "execution_count": null,
   "metadata": {
    "collapsed": true
   },
   "outputs": [],
   "source": [
    "categoryList = {'presacc','presacc_ddmStim_cancel_meanDifference', 'presacc_ddmStim_noCancel_meanDifference', 'presacc_noddmStim_noCancel_meanDifference','presacc_cancel_meanDifference_noddmStim',...\n",
    "               'presacc_ddmRankMeanStim_cancel_meanDifference', 'presacc_ddmRankMeanStim_noCancel_meanDifference', 'presacc_noddmRankMeanStim_noCancel_meanDifference','presacc_cancel_meanDifference_noddmRankMeanStim'};\n",
    "\n",
    "categoryList = {'presacc','presacc_ddmStim_cancel_trialByTrial', 'presacc_ddmStim_noCancel_trialByTrial', 'presacc_noddmStim_noCancel_trialByTrial','presacc_cancel_trialByTrial_noddmStim',...\n",
    "               'presacc_ddmRankMeanStim_cancel_trialByTrial', 'presacc_ddmRankMeanStim_noCancel_trialByTrial', 'presacc_noddmRankMeanStim_noCancel_trialByTrial','presacc_cancel_trialByTrial_noddmRankMeanStim'};\n",
    "categoryList = {'presacc_ddmRankMeanStim_cancel_trialByTrial'};\n",
    "\n",
    "\n",
    "\n",
    "categoryList = {'presacc_ddmRankMeanStim_cancel_meanSdf','presacc_noddmRankMeanStim_noCancel_meanSdf'};\n",
    "categoryList = {'presacc_cancel_meanSdf_noddmRankMeanStim','presacc_ddmRankMeanStim_noCancel_meanSdf'};\n",
    "% categoryList = {'presacc_ddmRankMeanStim_cancel_meanSdf','presacc_cancel_meanSdf_noddmRankMeanStim','presacc_ddmRankMeanStim_noCancel_meanSdf','presacc_noddmRankMeanStim_noCancel_meanSdf'};\n",
    "categoryList = {'presacc_ddmRankMeanStim_cancel_meanSdf'};\n",
    "\n",
    "\n",
    "opt = ccm_population_neuron_plot;\n",
    "\n",
    "opt.doGos = false;\n",
    "opt.doCanceled = true;\n",
    "opt.doNoncanceled = false;\n",
    "opt.easyOnly = false; \n",
    "opt.inOnly = true;\n",
    "opt.plotSEM = false;\n",
    "\n",
    "opt.multiUnit = multiUnit;\n",
    "opt.normalize = true;\n",
    "opt.excludeSessions = deleteSessions;\n",
    "opt.ssrtUse = 'intWeightPerSession';\n",
    "opt.saccadeBaseRatio = [];\n",
    "\n",
    "    opt.categoryName = categoryList;\n",
    "    ccm_population_neuron_plot(subject,projectRoot,projectDate,opt);\n",
    "\n",
    "    \n",
    "%for i = 1 : length(categoryList)    \n",
    "  %  opt.categoryName = categoryList{i};\n",
    " %   ccm_population_neuron_plot(subject,projectRoot,projectDate,opt);\n",
    "%end\n"
   ]
  },
  {
   "cell_type": "markdown",
   "metadata": {},
   "source": [
    "### Run stats on the population"
   ]
  },
  {
   "cell_type": "code",
   "execution_count": null,
   "metadata": {
    "collapsed": true
   },
   "outputs": [],
   "source": [
    "categoryList = {'presacc'};\n",
    "categoryList = {'presacc_ddmStim_cancel'};\n",
    "categoryList = {'presacc_ddmStim'};\n",
    "categoryList = {'presacc','presacc_cancel', 'presacc_noCancel', 'presacc_ddmStim', 'presacc_noddmStim', 'presacc_ddmStim_cancel', 'presacc_cancel_noddmStim', 'presacc_ddmStim_noCancel', 'presacc_noddmStim_noCancel', };\n",
    "\n",
    "\n",
    "opt = ccm_population_neuron_plot;\n",
    "\n",
    "opt.doStops = true;\n",
    "opt.multiUnit = multiUnit;\n",
    "opt.normalize = normalizeData;\n",
    "opt.excludeSessions = deleteSessions;\n",
    "opt.ms2Std  = 75;\n",
    "opt.ssrtUse = 'intWeightPerSession';\n",
    "opt.saccadeBaseRatio = [];\n",
    "\n",
    "for i = 1 : length(categoryList)\n",
    "    \n",
    "    opt.categoryName = categoryList{i};\n",
    "\n",
    "    ccm_population_neuron_stats(subject,projectRoot,projectDate,opt);\n",
    "    \n",
    "end\n"
   ]
  },
  {
   "cell_type": "markdown",
   "metadata": {},
   "source": [
    "#Continue to Summary Analyses Notebook"
   ]
  }
 ],
 "metadata": {
  "kernelspec": {
   "display_name": "Python 2",
   "language": "python",
   "name": "python2"
  },
  "language_info": {
   "codemirror_mode": {
    "name": "ipython",
    "version": 2
   },
   "file_extension": ".py",
   "mimetype": "text/x-python",
   "name": "python",
   "nbconvert_exporter": "python",
   "pygments_lexer": "ipython2",
   "version": "2.7.13"
  }
 },
 "nbformat": 4,
 "nbformat_minor": 0
}
