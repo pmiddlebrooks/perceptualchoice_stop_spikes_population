{
 "cells": [
  {
   "cell_type": "markdown",
   "metadata": {},
   "source": [
    "# CANCEL TIMES ANALYSES\n"
   ]
  },
  {
   "cell_type": "code",
   "execution_count": null,
   "metadata": {
    "collapsed": true
   },
   "outputs": [],
   "source": [
    "\n",
    "append = false;\n",
    "\n",
    "opt             = ccm_neuron_stop_vs_go;\n",
    "opt.howProcess  = 'each';\n",
    "opt.plotFlag    = false;\n",
    "opt.printPlot    = false;\n",
    "opt.minTrialPerCond \t= 10;\n",
    "opt.ms2Std \t= 75;\n",
    "\n",
    "opt.ssrt = 'intPerSsd';\n",
    "% opt.ssrt = 'intWeightPerSession';\n",
    "\n",
    "ccm_neuron_stop_vs_go_pop(subject,projectRoot,projectDate, append, opt)\n"
   ]
  },
  {
   "cell_type": "code",
   "execution_count": null,
   "metadata": {
    "collapsed": true
   },
   "outputs": [],
   "source": [
    "\n",
    "% load a list of neurons sessions and units\n",
    "categoryList = {'presacc','presaccNoVis','presaccRamp','visPresacc'};\n",
    "categoryList = {'presacc'};\n",
    "\n",
    "    % Build a new table of the relevant neurons, and a list of the session/Unit\n",
    "for i = 1 : length(categoryList)\n",
    "\n",
    "    load(fullfile(dataPath, ['ccm_',categoryList{i},'_neurons']))\n",
    "\n",
    "    % load the population of cancel time anlysis\n",
    "    load(fullfile(dataPath, ['ccm_canceled_vs_go_neuronTypes']))\n",
    "\n",
    "    cancelData = table();\n",
    "    for i = 1 : size(neurons, 1)\n",
    "        % find the indices in cancelTypes that correspond to this unit\n",
    "        iInd = strcmp(neurons.sessionID(i), cancelTypes.sessionID) & strcmp(neurons.unit(i), cancelTypes.unit);\n",
    "        cancelData = [cancelData; cancelTypes(iInd,:)];\n",
    "\n",
    "\n",
    "    end\n",
    "\n",
    "\n",
    "\n",
    "\n",
    "    % How many (among all units X SSDs were go vs stop different during 40 ms peri-SSRT?\n",
    "    alphaVal = .05;\n",
    "    peri40msInd = cellfun(@(x) x < alphaVal, cancelData.pValue40msStopStop, 'uni', false);\n",
    "    notPeri40ms = cellfun(@(x) x >= alphaVal, cancelData.pValue40msStopStop, 'uni', false);\n",
    "\n",
    "    pPeri40ms = sum(cell2mat(peri40msInd)) / (sum(cell2mat(peri40msInd)) + sum(cell2mat(notPeri40ms)));\n",
    "\n",
    "\n",
    "\n",
    "\n",
    "\n",
    "    %   START HERE TO USE cancelTime2Std TO SORT NEURONS\n",
    "    cancelData.cancelTime = cellfun(@(x,y,z) x - y - z, cancelData.cancelTime2Std, cancelData.stopStopSsd, num2cell(cancelData.ssrt), 'uni', false);\n",
    "\n",
    "\n",
    "    % How many conditions out of all possible canceled?\n",
    "    allCancelTime = cell2mat(cellfun(@(x) ~isnan(x), cancelData.cancelTime, 'uni', false));\n",
    "    nCancelCond = sum(cell2mat(cellfun(@(x) ~isnan(x), cancelData.cancelTime, 'uni', false)));\n",
    "    nTotal = size(cell2mat(cellfun(@(x) ~isnan(x), cancelData.cancelTime, 'uni', false)), 1);\n",
    "    pCancelCond = nCancelCond / nTotal\n",
    "\n",
    "\n",
    "    % What's the full distribution of cancel times?\n",
    "    allCancelTime = cell2mat(cancelData.cancelTime);\n",
    "    cancelCond = allCancelTime(~isnan(allCancelTime));\n",
    "\n",
    "\n",
    "\n",
    "    % How many conditions canceled for this neuron?\n",
    "    nCancelPerNeuron = cellfun(@(x) sum(~isnan(x)), cancelData.cancelTime);\n",
    "    % How many potential conditions to cancel for this neuron?\n",
    "    nCondPerNeuron = cellfun(@length, cancelData.cancelTime);\n",
    "\n",
    "    % If any condition canceled for this neuron, count it as a \"cancel\" neuron\n",
    "    neuronsCanceled = nCancelPerNeuron > 0;\n",
    "\n",
    "    % Probability of a neuron to have at least one condition that cancels\n",
    "    pNeuronCond = sum(neuronsCanceled) / size(neurons, 1)\n",
    "    %disp([neurons, num2cell(nCancelPerNeuron)])\n",
    "\n",
    "\n",
    "    % Which units canceled?\n",
    "    presaccCancel = neurons(nCancelPerNeuron > 0, :);\n",
    "    presaccNoCancel = neurons(nCancelPerNeuron == 0, :);\n",
    "\n",
    "    load(fullfile(dataPath, ['ccm_',categoryList{i},'_neurons']))\n",
    "    neurons = neurons(nCancelPerNeuron > 0, :);\n",
    "    save(fullfile(dataPath, ['ccm_',categoryList{i},'Cancel_neurons']))\n",
    "\n",
    "    load(fullfile(dataPath, ['ccm_',categoryList{i},'_neurons']))\n",
    "    neurons = neurons(nCancelPerNeuron == 0, :);\n",
    "    save(fullfile(dataPath, ['ccm_',categoryList{i},'NoCancel_neurons']))\n",
    "\n",
    "end\n",
    "            "
   ]
  },
  {
   "cell_type": "markdown",
   "metadata": {},
   "source": [
    "#Neuronal Separation Distributions"
   ]
  },
  {
   "cell_type": "code",
   "execution_count": null,
   "metadata": {
    "collapsed": true
   },
   "outputs": [],
   "source": [
    "%ssrt = 'intWeightPerSession';\n",
    "ssrt = 'intPerSsd';\n",
    "\n",
    "dataPath = fullfile(projectRoot,'data',projectDate,subject);\n",
    "plotFlag = 1;\n",
    "savePlot = 1;\n",
    "\n",
    "neuronCategory = {'presacc','presaccNoVis','presaccRamp','visPresacc','presaccNoPostsacc'};\n",
    "neuronCategory = {'presacc'};\n",
    "\n",
    "\n",
    "data = ccm_cancel_time_analyses_pop(subject, projectRoot, projectDate, neuronCategory, plotFlag, savePlot, ssrt)\n",
    "\n",
    "\n",
    "\n"
   ]
  },
  {
   "cell_type": "markdown",
   "metadata": {},
   "source": [
    "# Neuronal Separation Per Session"
   ]
  },
  {
   "cell_type": "code",
   "execution_count": null,
   "metadata": {
    "collapsed": true
   },
   "outputs": [],
   "source": [
    "neuronCategory = {'presacc'};\n",
    "\n",
    "load(fullfile(dataPath, ['ccm_',neuronCategory{1},'_neurons']))\n",
    "\n",
    "opt             = ccm_neuron_stop_vs_go;\n",
    "opt.ms2Std  = 75;\n",
    "opt.howProcess  = 'each';\n",
    "opt.plotFlag    = true;\n",
    "opt.printPlot    = true;\n",
    "opt.minTrialPerCond \t= 10;\n",
    "\n",
    "opt.ssrt \t= 'intPerSsd';\n",
    "opt.ssrt \t= 'intWeightPerSession';\n",
    "\n",
    "poolID = parpool(5);\n",
    "\n",
    "parfor i = 1 : size(neurons, 1)\n",
    "%for i = 1 : size(neurons, 1)\n",
    "    %tic\n",
    "    iData = ccm_neuron_stop_vs_go(subject, neurons.sessionID{i}, neurons.unit(i), opt);\n",
    "    % fprintf('total process time: %.2f\\n', toc)\n",
    " %   clear iData\n",
    "end\n",
    "delete(poolID)\n"
   ]
  },
  {
   "cell_type": "markdown",
   "metadata": {},
   "source": [
    "#PROCEED TO CHOICE_CANCEL ANALYSES NOTEBOOK"
   ]
  }
 ],
 "metadata": {
  "kernelspec": {
   "display_name": "Python 2",
   "language": "python",
   "name": "python2"
  },
  "language_info": {
   "codemirror_mode": {
    "name": "ipython",
    "version": 2
   },
   "file_extension": ".py",
   "mimetype": "text/x-python",
   "name": "python",
   "nbconvert_exporter": "python",
   "pygments_lexer": "ipython2",
   "version": "2.7.13"
  }
 },
 "nbformat": 4,
 "nbformat_minor": 0
}
