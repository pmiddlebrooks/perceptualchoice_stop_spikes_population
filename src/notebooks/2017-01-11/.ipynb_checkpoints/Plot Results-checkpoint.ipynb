{
 "cells": [
  {
   "cell_type": "markdown",
   "metadata": {},
   "source": [
    "## Step Plot population data"
   ]
  },
  {
   "cell_type": "code",
   "execution_count": null,
   "metadata": {
    "collapsed": true
   },
   "outputs": [],
   "source": [
    "subject = 'joule';\n",
    "categoryList = {'presacc', 'visNoPresacc', 'presaccNoVis', 'visPresacc', 'presaccRamp', 'postsaccNoPresacc'};\n",
    "opt = ccm_population_neuron_plot;\n",
    "opt.normalizeData = false;\n",
    "opt.plotError = false;\n",
    "\n",
    "for i = 1 : length(categoryList)\n",
    "    opt.categoryName = categoryList{i};\n",
    "\n",
    "    ccm_population_neuron_plot(subject,projectRoot,projectDate,opt)\n",
    "end\n"
   ]
  },
  {
   "cell_type": "markdown",
   "metadata": {},
   "source": [
    "##Plot population Checker on and Saccade data a la Roitman Shadlen 2002\n"
   ]
  },
  {
   "cell_type": "code",
   "execution_count": null,
   "metadata": {
    "collapsed": true
   },
   "outputs": [],
   "source": [
    "subject = 'joule';\n",
    "categoryList = {'fix', 'vis', 'visNoPresacc', 'presaccNoVis', 'visPresacc', 'postsaccNoPresacc'};\n",
    "opt = ccm_population_roit_shad_2002;\n",
    "\n",
    "for i = 1 : length(categoryList)\n",
    "opt.categoryName = categoryList{i};\n",
    "\n",
    "    ccm_population_roit_shad_2002(subject,projectRoot,projectDate,opt)\n",
    "end\n"
   ]
  }
 ],
 "metadata": {
  "kernelspec": {
   "display_name": "Python 2",
   "language": "python",
   "name": "python2"
  },
  "language_info": {
   "codemirror_mode": {
    "name": "ipython",
    "version": 2
   },
   "file_extension": ".py",
   "mimetype": "text/x-python",
   "name": "python",
   "nbconvert_exporter": "python",
   "pygments_lexer": "ipython2",
   "version": "2.7.10"
  }
 },
 "nbformat": 4,
 "nbformat_minor": 0
}
