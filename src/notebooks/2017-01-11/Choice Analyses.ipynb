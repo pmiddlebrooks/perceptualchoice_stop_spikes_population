{
 "cells": [
  {
   "cell_type": "markdown",
   "metadata": {},
   "source": [
    "# POPULATION DDM-LIKE a la Ding & Gold 2012\n"
   ]
  },
  {
   "cell_type": "code",
   "execution_count": null,
   "metadata": {
    "collapsed": true
   },
   "outputs": [],
   "source": [
    "append = false;\n",
    "\n",
    "ccm_classify_neuron_ding_gold_pop(subject,projectRoot,projectDate, append)\n"
   ]
  },
  {
   "cell_type": "markdown",
   "metadata": {},
   "source": [
    "## Create files of lists of each ddm neuron category"
   ]
  },
  {
   "cell_type": "code",
   "execution_count": null,
   "metadata": {
    "collapsed": true
   },
   "outputs": [],
   "source": [
    "epochList = {'Stim', 'Sacc', 'Post'};\n",
    "\n",
    "for i = 1 : length(epochList)\n",
    "    load(fullfile(dataPath, ['ccm_ddm',epochList{i},'_neuronTypes']))\n",
    "    sessionInd = neuronTypes.ddm;\n",
    "\n",
    "    neurons = table();\n",
    "    neurons.sessionID  = neuronTypes.sessionID(sessionInd);\n",
    "    neurons.unit       = neuronTypes.unit(sessionInd);\n",
    "    neurons.hemisphere  = neuronTypes.hemisphere(sessionInd);\n",
    "    neurons.rf         = neuronTypes.rf(sessionInd);\n",
    "\n",
    "    save(fullfile(dataPath, ['ccm_ddm',epochList{i},'_neurons']), 'neurons')\n",
    "\n",
    "    clear neurons\n",
    "end\n"
   ]
  },
  {
   "cell_type": "markdown",
   "metadata": {},
   "source": [
    "# Compare proportions of DDM-like among other cell classes\n"
   ]
  },
  {
   "cell_type": "code",
   "execution_count": null,
   "metadata": {
    "collapsed": true
   },
   "outputs": [],
   "source": [
    "dataPath = fullfile(projectRoot,'data',projectDate,subject);\n",
    "\n",
    "dgEpoch = 'Stim';\n",
    "cEpoch = 'visPresacc';\n",
    "\n",
    "% Ding and gold neuron classifications\n",
    "load(fullfile(dataPath, ['ccm_ddm',dgEpoch,'_neuronTypes']))\n",
    "sessionInd = neuronTypes.ddm;\n",
    "neurons = table();\n",
    "neurons.sessionID  = neuronTypes.sessionID(sessionInd);\n",
    "neurons.unit       = neuronTypes.unit(sessionInd);\n",
    "neurons.hemisphere  = neuronTypes.hemisphere(sessionInd);\n",
    "neurons.rf  = neuronTypes.rf(sessionInd);\n",
    "ddmNeurons = neurons;\n",
    "\n",
    "\n",
    "% Classic neuron classifications\n",
    "c = load(fullfile(dataPath, ['ccm_',cEpoch,'_neurons']));\n",
    "cNeurons = c.neurons;\n",
    "\n",
    "\n",
    "presaccDdm = intersect(cNeurons, ddmNeurons)\n"
   ]
  },
  {
   "cell_type": "markdown",
   "metadata": {},
   "source": [
    "# PROCEED TO CANCEL ANALYSES NOTEBOOK\n"
   ]
  }
 ],
 "metadata": {
  "kernelspec": {
   "display_name": "Python 2",
   "language": "python",
   "name": "python2"
  },
  "language_info": {
   "codemirror_mode": {
    "name": "ipython",
    "version": 2
   },
   "file_extension": ".py",
   "mimetype": "text/x-python",
   "name": "python",
   "nbconvert_exporter": "python",
   "pygments_lexer": "ipython2",
   "version": "2.7.10"
  }
 },
 "nbformat": 4,
 "nbformat_minor": 0
}
