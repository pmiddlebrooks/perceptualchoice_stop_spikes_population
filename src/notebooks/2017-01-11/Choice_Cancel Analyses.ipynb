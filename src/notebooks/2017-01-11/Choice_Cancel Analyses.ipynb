{
 "cells": [
  {
   "cell_type": "markdown",
   "metadata": {},
   "source": [
    "### Compare units that canceled with DDM-like units for this category"
   ]
  },
  {
   "cell_type": "markdown",
   "metadata": {},
   "source": [
    "####Output: ccm_category_neurons.mat files"
   ]
  },
  {
   "cell_type": "code",
   "execution_count": null,
   "metadata": {
    "collapsed": true
   },
   "outputs": [],
   "source": [
    "dataPath = fullfile(projectRoot,'data',projectDate,subject);\n",
    "\n",
    "cEpochList = {'presacc','presaccNoVis','presaccRamp','visPresacc','presaccNoPostsacc','presaccPeak'};\n",
    "dgEpochList = {'Stim','Sacc','Post'};\n",
    "\n",
    "cEpochList = {'presaccRamp','presaccPeak'};\n",
    "cEpochList = {'presacc'};\n",
    "dgEpochList = {'Stim'};\n",
    "cancelEpoch = 'presacc_cancel';\n",
    "\n",
    "\n",
    "\n",
    "for i = 1 : length(cEpochList)\n",
    "    for j = 1 : length(dgEpochList)\n",
    "        \n",
    "        dgEpoch = dgEpochList{j};\n",
    "        cEpoch = cEpochList{i};\n",
    "\n",
    "\n",
    "\n",
    "\n",
    "        % LOAD ALL RELEVANT DATA AND LISTS\n",
    "\n",
    "        % Load Classic neuron classifications\n",
    "        cFileName = fullfile(dataPath, ['ccm_',cEpochList{i},'_neurons', addMulti]);\n",
    "        c = load(cFileName);\n",
    "        classic = c.neurons;\n",
    "        \n",
    "        % Load Ding and gold (choice) neuron classifications\n",
    "        dgFileName = fullfile(dataPath, ['ccm_',ddmType, dgEpochList{j}, '_neurons', addMulti]);\n",
    "        dg = load(dgFileName);\n",
    "        ddm = dg.neurons;\n",
    "\n",
    "\n",
    "        % Load Cancel neuron classifications \n",
    "        caFileName = fullfile(dataPath, ['ccm_',cancelEpoch,'_',cancelType,'_neurons', addMulti]);\n",
    "        ca = load(caFileName);\n",
    "        cancel = ca.neurons;\n",
    "\n",
    "\n",
    "\n",
    "\n",
    "        [~, iCla, iDdm] = setxor(classic, ddm);\n",
    "        classicDdm = intersect(classic, ddm);\n",
    "        classicNoDdm = classic(iCla, :);\n",
    "        ddmNoClassic = ddm(iDdm, :);\n",
    "\n",
    "\n",
    "        [~, iCla, iCan] = setxor(classic, cancel);\n",
    "        classicCancel = intersect(classic, cancel);\n",
    "        classicNoCancel = classic(iCla, :);\n",
    "        cancelNoClassic = cancel(iCan, :);\n",
    "\n",
    "\n",
    "        [~, iCan, iDdm] = setxor(cancel, classicDdm);\n",
    "        classicDdmCancel = intersect(classicDdm, cancel);\n",
    "        classicCancelNoDdm = cancel(iCan,:);\n",
    "        classicDdmNoCancel = classicDdm(iDdm,:);\n",
    "\n",
    "        classicNoDdmNoCancel = intersect(classicNoDdm, classicNoCancel);\n",
    "        \n",
    "\n",
    "        % Save the units as population data, to be called later efficiently\n",
    "        neurons = classicDdm;\n",
    "        save(fullfile(dataPath, ['ccm_',cEpochList{i},'_', ddmType, dgEpochList{j},'_neurons', addMulti]), 'neurons')\n",
    "\n",
    "        neurons = classicNoDdm;\n",
    "        save(fullfile(dataPath, ['ccm_',cEpochList{i},'_no', ddmType, dgEpochList{j},'_neurons', addMulti]), 'neurons')\n",
    "\n",
    "        neurons = ddmNoClassic;\n",
    "        save(fullfile(dataPath, ['ccm_',ddmType,dgEpochList{j},'_no',cEpochList{i},'_neurons', addMulti]), 'neurons')\n",
    "\n",
    "        neurons = cancelNoClassic;\n",
    "        save(fullfile(dataPath, ['ccm_cancel_',cancelType,'_no',cEpochList{i},'_neurons', addMulti]), 'neurons')\n",
    "\n",
    "        neurons = classicDdmCancel;\n",
    "        save(fullfile(dataPath, ['ccm_',cEpochList{i},'_', ddmType, dgEpochList{j},'_cancel_',cancelType,'_neurons', addMulti]), 'neurons')\n",
    "\n",
    "        neurons = classicCancelNoDdm;\n",
    "        save(fullfile(dataPath, ['ccm_',cEpochList{i},'_cancel_',cancelType,'_no',ddmType,dgEpochList{j},'_neurons', addMulti]), 'neurons')\n",
    "\n",
    "        neurons = classicDdmNoCancel;\n",
    "        save(fullfile(dataPath, ['ccm_',cEpochList{i},'_',ddmType,dgEpochList{j},'_noCancel_',cancelType,'_neurons', addMulti]), 'neurons')\n",
    "\n",
    "        neurons = classicNoDdmNoCancel;\n",
    "        save(fullfile(dataPath, ['ccm_',cEpochList{i},'_no',ddmType,dgEpochList{j},'_noCancel_',cancelType,'_neurons', addMulti]), 'neurons')\n",
    "\n",
    "\n",
    "    end\n",
    "end\n",
    "\n"
   ]
  },
  {
   "cell_type": "code",
   "execution_count": null,
   "metadata": {
    "collapsed": true
   },
   "outputs": [],
   "source": [
    "categoryList = {'presacc','presacc_ddmStim_cancel_meanDifference', 'presacc_ddmStim_noCancel_meanDifference', 'presacc_noddmStim_noCancel_meanDifference','presacc_cancel_meanDifference_noddmStim',...\n",
    "               'presacc_ddmRankMeanStim_cancel_meanDifference', 'presacc_ddmRankMeanStim_noCancel_meanDifference', 'presacc_noddmRankMeanStim_noCancel_meanDifference','presacc_cancel_meanDifference_noddmRankMeanStim'};\n",
    "\n",
    "categoryList = {'presacc','presacc_ddmStim_cancel_trialByTrial', 'presacc_ddmStim_noCancel_trialByTrial', 'presacc_noddmStim_noCancel_trialByTrial','presacc_cancel_trialByTrial_noddmStim',...\n",
    "               'presacc_ddmRankMeanStim_cancel_trialByTrial', 'presacc_ddmRankMeanStim_noCancel_trialByTrial', 'presacc_noddmRankMeanStim_noCancel_trialByTrial','presacc_cancel_trialByTrial_noddmRankMeanStim'};\n",
    "categoryList = {'presacc_ddmRankMeanStim_cancel_trialByTrial'};\n",
    "\n",
    "\n",
    "\n",
    "categoryList = {'presacc_ddmRankMeanStim_cancel_meanSdf','presacc_noddmRankMeanStim_noCancel_meanSdf'};\n",
    "categoryList = {'presacc_cancel_meanSdf_noddmRankMeanStim','presacc_ddmRankMeanStim_noCancel_meanSdf'};\n",
    "% categoryList = {'presacc_cancel_meanSdf_noddmRankMeanStim','presacc_ddmRankMeanStim_noCancel_meanSdf','presacc_noddmRankMeanStim_noCancel_meanSdf'};\n",
    "categoryList = {'presacc_ddmRankMeanStim_noCancel_meanSdf'};\n",
    "\n",
    "\n",
    "opt = ccm_population_neuron_plot;\n",
    "\n",
    "opt.doGos = false;\n",
    "opt.doCanceled = false;\n",
    "opt.doNoncanceled = true;\n",
    "opt.easyOnly = false; \n",
    "opt.inOnly = true;\n",
    "opt.plotSEM = false;\n",
    "\n",
    "opt.multiUnit = multiUnit;\n",
    "opt.normalize = true;\n",
    "opt.excludeSessions = deleteSessions;\n",
    "opt.ssrtUse = 'intWeightPerSession';\n",
    "opt.saccadeBaseRatio = [];\n",
    "\n",
    "    opt.categoryName = categoryList;\n",
    "    ccm_population_neuron_plot(subject,projectRoot,projectDate,opt);\n",
    "\n",
    "    \n",
    "%for i = 1 : length(categoryList)    \n",
    "  %  opt.categoryName = categoryList{i};\n",
    " %   ccm_population_neuron_plot(subject,projectRoot,projectDate,opt);\n",
    "%end\n"
   ]
  },
  {
   "cell_type": "markdown",
   "metadata": {},
   "source": [
    "### Run stats on the population"
   ]
  },
  {
   "cell_type": "code",
   "execution_count": null,
   "metadata": {
    "collapsed": true
   },
   "outputs": [],
   "source": [
    "categoryList = {'presacc'};\n",
    "categoryList = {'presacc_ddmStim_cancel'};\n",
    "categoryList = {'presacc_ddmStim'};\n",
    "categoryList = {'presacc','presacc_cancel', 'presacc_noCancel', 'presacc_ddmStim', 'presacc_noddmStim', 'presacc_ddmStim_cancel', 'presacc_cancel_noddmStim', 'presacc_ddmStim_noCancel', 'presacc_noddmStim_noCancel', };\n",
    "\n",
    "\n",
    "opt = ccm_population_neuron_plot;\n",
    "\n",
    "opt.doStops = true;\n",
    "opt.multiUnit = multiUnit;\n",
    "opt.normalize = normalizeData;\n",
    "opt.excludeSessions = deleteSessions;\n",
    "opt.ms2Std  = 75;\n",
    "opt.ssrtUse = 'intWeightPerSession';\n",
    "opt.saccadeBaseRatio = [];\n",
    "\n",
    "for i = 1 : length(categoryList)\n",
    "    \n",
    "    opt.categoryName = categoryList{i};\n",
    "\n",
    "    ccm_population_neuron_stats(subject,projectRoot,projectDate,opt);\n",
    "    \n",
    "end\n"
   ]
  },
  {
   "cell_type": "markdown",
   "metadata": {},
   "source": [
    "#Continue to Summary Analyses Notebook"
   ]
  }
 ],
 "metadata": {
  "kernelspec": {
   "display_name": "Python 2",
   "language": "python",
   "name": "python2"
  },
  "language_info": {
   "codemirror_mode": {
    "name": "ipython",
    "version": 2
   },
   "file_extension": ".py",
   "mimetype": "text/x-python",
   "name": "python",
   "nbconvert_exporter": "python",
   "pygments_lexer": "ipython2",
   "version": "2.7.13"
  }
 },
 "nbformat": 4,
 "nbformat_minor": 0
}
