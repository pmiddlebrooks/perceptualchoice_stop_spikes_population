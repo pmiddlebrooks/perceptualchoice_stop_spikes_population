{
 "cells": [
  {
   "cell_type": "markdown",
   "metadata": {},
   "source": [
    "# POPULATION DDM-LIKE a la Ding & Gold 2012\n"
   ]
  },
  {
   "cell_type": "code",
   "execution_count": null,
   "metadata": {
    "collapsed": true
   },
   "outputs": [],
   "source": [
    "%%matlab\n",
    "\n",
    "subject = 'joule';\n",
    "\n",
    "projectDate = '2017-01-11';\n",
    "projectRoot = '/Volumes/HD-1/Users/paulmiddlebrooks/perceptualchoice_stop_spikes_population';\n",
    "\n",
    "addpath(genpath(fullfile(projectRoot,'src/code',projectDate)));\n",
    "dataPath = fullfile(projectRoot,'data',projectDate,subject);\n",
    "\n"
   ]
  },
  {
   "cell_type": "code",
   "execution_count": null,
   "metadata": {
    "collapsed": true
   },
   "outputs": [],
   "source": [
    "append = false;\n",
    "\n",
    "opt             = ccm_neuron_choice;\n",
    "opt.append = append;\n",
    "opt.plotFlag    = false;\n",
    "opt.printPlot    = false;\n",
    "opt.ms2Std \t= 75;\n",
    "\n",
    "opt.multiUnit    = true;\n",
    "\n",
    "opt.parpoolSize = 4;\n",
    "\n",
    "\n",
    "\n",
    "\n",
    "ccm_neuron_choice_pop(subject,projectRoot,projectDate, opt)\n"
   ]
  },
  {
   "cell_type": "markdown",
   "metadata": {},
   "source": [
    "## Create files of lists of each ddm neuron category"
   ]
  },
  {
   "cell_type": "code",
   "execution_count": null,
   "metadata": {
    "collapsed": true
   },
   "outputs": [],
   "source": [
    "epochList = {'Stim', 'Sacc', 'Post'};\n",
    "\n",
    "for i = 1 : length(epochList)\n",
    "    load(fullfile(dataPath, ['ccm_ddm',epochList{i},'_neuronTypes']))\n",
    "    sessionInd = neuronTypes.ddm;\n",
    "\n",
    "    neurons = table();\n",
    "    neurons.sessionID  = neuronTypes.sessionID(sessionInd);\n",
    "    neurons.unit       = neuronTypes.unit(sessionInd);\n",
    "    neurons.hemisphere  = neuronTypes.hemisphere(sessionInd);\n",
    "    neurons.rf         = neuronTypes.rf(sessionInd);\n",
    "\n",
    "    save(fullfile(dataPath, ['ccm_ddm',epochList{i},'_neurons']), 'neurons')\n",
    "\n",
    "    clear neurons\n",
    "end\n"
   ]
  },
  {
   "cell_type": "markdown",
   "metadata": {},
   "source": [
    "# Compare proportions of DDM-like among other cell classes\n"
   ]
  },
  {
   "cell_type": "code",
   "execution_count": null,
   "metadata": {
    "collapsed": true
   },
   "outputs": [],
   "source": [
    "dataPath = fullfile(projectRoot,'data',projectDate,subject);\n",
    "\n",
    "dgEpoch = 'Stim';\n",
    "cEpoch = 'visPresacc';\n",
    "\n",
    "% Ding and gold neuron classifications\n",
    "load(fullfile(dataPath, ['ccm_ddm',dgEpoch,'_neuronTypes']))\n",
    "sessionInd = neuronTypes.ddm;\n",
    "neurons = table();\n",
    "neurons.sessionID  = neuronTypes.sessionID(sessionInd);\n",
    "neurons.unit       = neuronTypes.unit(sessionInd);\n",
    "neurons.hemisphere  = neuronTypes.hemisphere(sessionInd);\n",
    "neurons.rf  = neuronTypes.rf(sessionInd);\n",
    "ddmNeurons = neurons;\n",
    "\n",
    "\n",
    "% Classic neuron classifications\n",
    "c = load(fullfile(dataPath, ['ccm_',cEpoch,'_neurons']));\n",
    "cNeurons = c.neurons;\n",
    "\n",
    "\n",
    "presaccDdm = intersect(cNeurons, ddmNeurons)\n"
   ]
  },
  {
   "cell_type": "markdown",
   "metadata": {},
   "source": [
    "# Neuronal DDM Per Session"
   ]
  },
  {
   "cell_type": "code",
   "execution_count": null,
   "metadata": {
    "collapsed": true
   },
   "outputs": [],
   "source": [
    "neuronCategory = {'presacc'};\n",
    "\n",
    "load(fullfile(dataPath, ['ccm_',neuronCategory{1},'_neurons']))\n",
    "\n",
    "opt             = ccm_neuron_choice;\n",
    "opt.plotFlag    = true;\n",
    "opt.printPlot    = true;\n",
    "opt.figureHandle \t= 54;\n",
    "\n",
    "\n",
    "poolID = parpool(4);\n",
    "\n",
    "parfor i = 1 : size(neurons, 1)\n",
    "%for i = 1 : size(neurons, 1)\n",
    "    %tic\n",
    "    iData = ccm_neuron_choice(subject, neurons.sessionID{i}, neurons.unit(i), opt);\n",
    "    % fprintf('total process time: %.2f\\n', toc)\n",
    "end\n",
    "delete(poolID)\n",
    "\n"
   ]
  },
  {
   "cell_type": "markdown",
   "metadata": {},
   "source": [
    "# PROCEED TO CANCEL ANALYSES NOTEBOOK\n"
   ]
  }
 ],
 "metadata": {
  "kernelspec": {
   "display_name": "Python 2",
   "language": "python",
   "name": "python2"
  },
  "language_info": {
   "codemirror_mode": {
    "name": "ipython",
    "version": 2
   },
   "file_extension": ".py",
   "mimetype": "text/x-python",
   "name": "python",
   "nbconvert_exporter": "python",
   "pygments_lexer": "ipython2",
   "version": "2.7.13"
  }
 },
 "nbformat": 4,
 "nbformat_minor": 0
}
