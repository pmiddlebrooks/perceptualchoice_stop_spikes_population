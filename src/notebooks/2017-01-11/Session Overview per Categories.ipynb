{
 "cells": [
  {
   "cell_type": "code",
   "execution_count": null,
   "metadata": {
    "collapsed": true
   },
   "outputs": [],
   "source": [
    "%%matlab\n",
    "\n",
    "subject = 'broca';\n",
    "\n",
    "projectDate = '2017-01-11';\n",
    "projectRoot = '/Volumes/HD-1/Users/paulmiddlebrooks/perceptualchoice_stop_spikes_population';\n",
    "\n",
    "addpath(genpath(fullfile(projectRoot,'src/code',projectDate)));\n",
    "dataPath = fullfile(projectRoot,'data',projectDate,subject);\n",
    "\n"
   ]
  },
  {
   "cell_type": "code",
   "execution_count": null,
   "metadata": {
    "collapsed": true
   },
   "outputs": [],
   "source": [
    "doStops = true;\n"
   ]
  },
  {
   "cell_type": "markdown",
   "metadata": {},
   "source": [
    "## ccm_session_data:   Print/save   Averaged for each choice coherence"
   ]
  },
  {
   "cell_type": "code",
   "execution_count": null,
   "metadata": {
    "collapsed": true
   },
   "outputs": [],
   "source": [
    "neuronCategory = {'fix'};\n",
    "\n",
    "fileName = fullfile(dataPath, ['ccm_',neuronCategory{1},'_neurons']);\n",
    "if multiUnit\n",
    "    fileName = [fileName, '_multiUnit'];\n",
    "end    \n",
    "load(fileName)\n",
    "\n",
    "opt             = ccm_options;\n",
    "opt.plotFlag    = true;\n",
    "opt.printPlot    = true;\n",
    "\n",
    "opt.multiUnit    = multiUnit;\n",
    "opt.ms2Std = 75;\n",
    "opt.ssrt = 'intWeightPerSession';\n",
    "%opt.ssrt = 'intPerSsd';\n",
    "\n",
    "\n",
    "poolID = parpool(4);\n",
    "parfor i = 1 : size(neurons, 1)\n",
    "%for i = 1 : size(neurons, 1)\n",
    "    iUnit = [neurons.sessionID(i), neurons.unit(i)];\n",
    "    fprintf('%d of %d\\t%s\\t%s\\n',i,size(neurons, 1), neurons.sessionID{i}, neurons.unit{i})\n",
    "    iData = ccm_session_data(subject, iUnit, opt);\n",
    "%    iData = ccm_neuron_choice(subject, neurons.sessionID{i}, neurons.unit(i), opt)\n",
    "%    iData = ccm_neuron_stop_vs_go(subject, neurons.sessionID{i}, neurons.unit(i), opt)\n",
    "end\n",
    "delete(poolID)\n"
   ]
  },
  {
   "cell_type": "markdown",
   "metadata": {},
   "source": [
    "## ccm_session_data:   Print/save   Collapsed choice (overall profile of neuron)"
   ]
  },
  {
   "cell_type": "code",
   "execution_count": null,
   "metadata": {
    "collapsed": true
   },
   "outputs": [],
   "source": [
    "neuronCategory = 'presacc';\n",
    "%neuronCategory = 'presaccRamp';\n",
    "presaccType = 'presacc';\n",
    "neuronCategory = [presaccType,'Ddm','Stim','Cancel']\n",
    "neuronCategory = [presaccType,'NoDdm','Stim','NoCancel']\n",
    "neuronCategory = [presaccType,'Cancel','NoDdm','Stim']\n",
    "neuronCategory = [presaccType,'Ddm','Stim','NoCancel']\n",
    "neuronCategory = [presaccType,'NoCancel']\n",
    "neuronCategory = [presaccType,'Cancel']\n",
    "\n",
    "fileName = fullfile(dataPath, ['ccm_',neuronCategory,'_neurons',addMulti]);\n",
    "load(fileName)\n",
    "\n",
    "opt             = ccm_options;\n",
    "opt.plotFlag    = true;\n",
    "opt.printPlot    = true;\n",
    "opt.doStops    = doStops;\n",
    "\n",
    "opt.collapseSignal    = true;\n",
    "opt.multiUnit    = multiUnit;\n",
    "opt.ms2Std = 75;\n",
    "opt.ssrt = 'intWeightPerSession';\n",
    "\n",
    "poolID = parpool(5);\n",
    "parfor i = 1 : size(neurons, 1)\n",
    "%for i = 1 : size(neurons, 1)\n",
    "    iUnit = [neurons.sessionID(i), neurons.unit(i)];\n",
    "    fprintf('%d of %d\\t%s\\t%s\\n',i,size(neurons, 1), neurons.sessionID{i}, neurons.unit{i})\n",
    "    iData = ccm_session_data(subject, iUnit, opt);\n",
    "end\n",
    "delete(poolID)\n"
   ]
  }
 ],
 "metadata": {
  "kernelspec": {
   "display_name": "Python 2",
   "language": "python",
   "name": "python2"
  },
  "language_info": {
   "codemirror_mode": {
    "name": "ipython",
    "version": 2
   },
   "file_extension": ".py",
   "mimetype": "text/x-python",
   "name": "python",
   "nbconvert_exporter": "python",
   "pygments_lexer": "ipython2",
   "version": "2.7.13"
  }
 },
 "nbformat": 4,
 "nbformat_minor": 0
}
