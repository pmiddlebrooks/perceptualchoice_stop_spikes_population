{
 "cells": [
  {
   "cell_type": "markdown",
   "metadata": {},
   "source": [
    "# CANCEL TIMES ANALYSES\n"
   ]
  },
  {
   "cell_type": "code",
   "execution_count": null,
   "metadata": {
    "collapsed": true
   },
   "outputs": [],
   "source": [
    "\n",
    "append = false;\n",
    "\n",
    "ccm_neuron_stop_vs_go_pop(subject,projectRoot,projectDate, append)\n"
   ]
  },
  {
   "cell_type": "code",
   "execution_count": null,
   "metadata": {
    "collapsed": true
   },
   "outputs": [],
   "source": [
    "\n",
    "% load a list of neurons sessions and units\n",
    "categoryList = {'presacc'};\n",
    "categoryList = {'presacc','presaccNoVis','presaccRamp','visPresacc'};\n",
    "\n",
    "for i = 1 : length(categoryList)\n",
    "\n",
    "    load(fullfile(dataPath, ['ccm_',categoryList{i},'_neurons']))\n",
    "\n",
    "    % load the population of cancel time anlysis\n",
    "    load(fullfile(dataPath, ['ccm_canceled_vs_go_neuronTypes']))\n",
    "\n",
    "    % Build a new table of the relevant neurons, and a list of the session/Unit\n",
    "    cancelData = table();\n",
    "    for i = 1 : size(neurons, 1)\n",
    "        % find the indices in cancelTypes that correspond to this unit\n",
    "        iInd = strcmp(neurons.sessionID(i), cancelTypes.sessionID) & strcmp(neurons.unit(i), cancelTypes.unit);\n",
    "        cancelData = [cancelData; cancelTypes(iInd,:)];\n",
    "\n",
    "\n",
    "    end\n",
    "\n",
    "\n",
    "\n",
    "\n",
    "    % How many (among all units X SSDs were go vs stop different during 40 ms peri-SSRT?\n",
    "    alphaVal = .05;\n",
    "    peri40msInd = cellfun(@(x) x < alphaVal, cancelData.pValue40msStopStop, 'uni', false);\n",
    "    notPeri40ms = cellfun(@(x) x >= alphaVal, cancelData.pValue40msStopStop, 'uni', false);\n",
    "\n",
    "    pPeri40ms = sum(cell2mat(peri40msInd)) / (sum(cell2mat(peri40msInd)) + sum(cell2mat(notPeri40ms)));\n",
    "\n",
    "\n",
    "\n",
    "\n",
    "\n",
    "    %   START HERE TO USE cancelTime2Std TO SORT NEURONS\n",
    "    cancelData.cancelTime = cellfun(@(x,y,z) x - y - z, cancelData.cancelTime2Std, cancelData.stopStopSsd, num2cell(cancelData.ssrt), 'uni', false);\n",
    "\n",
    "\n",
    "    % How many conditions out of all possible canceled?\n",
    "    allCancelTime = cell2mat(cellfun(@(x) ~isnan(x), cancelData.cancelTime, 'uni', false));\n",
    "    nCancelCond = sum(cell2mat(cellfun(@(x) ~isnan(x), cancelData.cancelTime, 'uni', false)));\n",
    "    nTotal = size(cell2mat(cellfun(@(x) ~isnan(x), cancelData.cancelTime, 'uni', false)), 1);\n",
    "    pCancelCond = nCancelCond / nTotal\n",
    "\n",
    "\n",
    "    % What's the full distribution of cancel times?\n",
    "    allCancelTime = cell2mat(cancelData.cancelTime);\n",
    "    cancelCond = allCancelTime(~isnan(allCancelTime));\n",
    "\n",
    "\n",
    "\n",
    "    % How many conditions canceled for this neuron?\n",
    "    nCancelPerNeuron = cellfun(@(x) sum(~isnan(x)), cancelData.cancelTime);\n",
    "    % How many potential conditions to cancel for this neuron?\n",
    "    nCondPerNeuron = cellfun(@length, cancelData.cancelTime);\n",
    "\n",
    "    % If any condition canceled for this neuron, count it as a \"cancel\" neuron\n",
    "    neuronsCanceled = nCancelPerNeuron > 0;\n",
    "\n",
    "    % Probability of a neuron to have at least one condition that cancels\n",
    "    pNeuronCond = sum(neuronsCanceled) / size(neurons, 1)\n",
    "    %disp([neurons, num2cell(nCancelPerNeuron)])\n",
    "\n",
    "\n",
    "    % Which units canceled?\n",
    "    presaccCancel = neurons(nCancelPerNeuron > 0, :);\n",
    "    presaccNoCancel = neurons(nCancelPerNeuron == 0, :);\n",
    "\n",
    "    load(fullfile(dataPath, ['ccm_',categoryList{i},'_neurons']))\n",
    "    neurons = neurons(nCancelPerNeuron > 0, :);\n",
    "    save(fullfile(dataPath, ['ccm_',categoryList{i},'Cancel_neurons']))\n",
    "\n",
    "    load(fullfile(dataPath, ['ccm_',categoryList{i},'_neurons']))\n",
    "    neurons = neurons(nCancelPerNeuron == 0, :);\n",
    "    save(fullfile(dataPath, ['ccm_',categoryList{i},'NoCancel_neurons']))\n",
    "\n",
    "end\n",
    "            "
   ]
  },
  {
   "cell_type": "markdown",
   "metadata": {},
   "source": [
    "#PROCEED TO CHOICE_CANCEL ANALYSES NOTEBOOK"
   ]
  }
 ],
 "metadata": {
  "kernelspec": {
   "display_name": "Python 2",
   "language": "python",
   "name": "python2"
  },
  "language_info": {
   "codemirror_mode": {
    "name": "ipython",
    "version": 2
   },
   "file_extension": ".py",
   "mimetype": "text/x-python",
   "name": "python",
   "nbconvert_exporter": "python",
   "pygments_lexer": "ipython2",
   "version": "2.7.10"
  }
 },
 "nbformat": 4,
 "nbformat_minor": 0
}
