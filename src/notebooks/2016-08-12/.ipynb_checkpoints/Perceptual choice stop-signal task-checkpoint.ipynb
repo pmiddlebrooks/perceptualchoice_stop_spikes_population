{
 "cells": [
  {
   "cell_type": "markdown",
   "metadata": {},
   "source": [
    "# Step 1 - Preparatory processes"
   ]
  },
  {
   "cell_type": "markdown",
   "metadata": {},
   "source": [
    "##### Step 1.2 - Add paths to MATLAB's search path"
   ]
  },
  {
   "cell_type": "markdown",
   "metadata": {},
   "source": [
    "_Goal_:  \n",
    "Ensure access to code\n",
    "\n",
    "_Instructions_:  \n",
    "Paste code into MATLAB\n",
    "\n",
    "_Output_:  \n",
    "None"
   ]
  },
  {
   "cell_type": "code",
   "execution_count": null,
   "metadata": {
    "collapsed": false
   },
   "outputs": [],
   "source": [
    "%%matlab\n",
    "projectDate = '2016-08-12';\n",
    "accreRoot = '/gpfs22';\n",
    "accreHome = '/home/middlepg';\n",
    "accreScratch = '/scratch/middlepg';\n",
    "if isdir(fullfile(accreScratch))\n",
    "    matRoot = fullfile(accreRoot,accreHome,'m-files'); % Edit this if running on Accre\n",
    "    projectRoot = fullfile(accreScratch,'perceptualchoice_stop_model');\n",
    "    environ = 'accre';\n",
    "else\n",
    "    matRoot = '/Volumes/HD-1/Users/paulmiddlebrooks/matlab';\n",
    "    projectRoot = '/Volumes/HD-1/Users/paulmiddlebrooks/perceptualchoice_stop_spikes_population';\n",
    "    environ = 'local';\n",
    "end\n",
    "\n",
    "addpath(genpath(fullfile(matRoot,'ccm')));\n",
    "addpath(genpath(fullfile(projectRoot,'src/code',projectDate)));\n"
   ]
  },
  {
   "cell_type": "markdown",
   "metadata": {},
   "source": [
    "# POPULATION NEURAL RESPONSES ON GO TRIALS \n",
    "## Step 2 - Automatically create table of all neuron categories from all sessions"
   ]
  },
  {
   "cell_type": "markdown",
   "metadata": {},
   "source": [
    "##### Step 2.1 - Categorize all neuron types based on activation throughout trials"
   ]
  },
  {
   "cell_type": "markdown",
   "metadata": {},
   "source": [
    "_Goal_:  \n",
    "\n",
    "_Instructions_:  \n",
    "Paste code into matlab.\n",
    "\n",
    "_Output_:  \n",
    "`ccm_neuronTypes` in `.../data/<subject>/`"
   ]
  },
  {
   "cell_type": "code",
   "execution_count": null,
   "metadata": {
    "collapsed": true
   },
   "outputs": [],
   "source": [
    "%%matlab\n",
    "\n",
    "\n",
    "projectDate = '2016-08-12';\n",
    "projectRoot = '/Volumes/HD-1/Users/paulmiddlebrooks/perceptualchoice_stop_spikes_population';\n",
    "\n",
    "addpath(genpath(fullfile(projectRoot,'src/code',projectDate)));\n",
    "\n",
    "subject = 'joule';\n"
   ]
  },
  {
   "cell_type": "markdown",
   "metadata": {},
   "source": [
    "##(optional): Append all the full-session population data files with new data"
   ]
  },
  {
   "cell_type": "code",
   "execution_count": null,
   "metadata": {
    "collapsed": true
   },
   "outputs": [],
   "source": [
    "subject = 'broca';\n",
    "\n",
    "append = true;\n",
    "\n",
    "ccm_classify_neuron_pop(subject,projectRoot,projectDate,append)\n",
    "\n",
    "ccm_classify_neuron_ding_gold_pop(subject,projectRoot,projectDate, append)\n",
    "\n",
    "ccm_neuron_stop_vs_go_pop(subject,projectRoot,projectDate, append)\n"
   ]
  },
  {
   "cell_type": "code",
   "execution_count": null,
   "metadata": {
    "collapsed": true
   },
   "outputs": [],
   "source": [
    "subject = 'broca';\n",
    "\n",
    "append = true;\n",
    "ccm_classify_neuron_pop(subject,projectRoot,projectDate,append)\n"
   ]
  },
  {
   "cell_type": "markdown",
   "metadata": {},
   "source": [
    "## Step 3 - Determine subset of neurons of a given classification"
   ]
  },
  {
   "cell_type": "markdown",
   "metadata": {},
   "source": [
    "##### Step 3.1 - Manually go through the automated list of neurons of a given category and make sure they pass the eyeball test"
   ]
  },
  {
   "cell_type": "markdown",
   "metadata": {},
   "source": [
    "_Goal_: A more accurate list of neurons of a given category, so population data is not tainted by neurons obviously not fit for the category (need to make a better automated way of doing this).  \n",
    "\n",
    "_Instructions_:  \n",
    "Alter ind and fileName to reflect the desired neuron population\n",
    "Paste code into matlab.\n",
    "\n",
    "_Output_:  \n",
    "`ccm_neuronTypes` in `.../data/<subject>/`"
   ]
  },
  {
   "cell_type": "code",
   "execution_count": null,
   "metadata": {
    "collapsed": true
   },
   "outputs": [],
   "source": [
    "%%matlab\n",
    "\n",
    "dataPath = fullfile(projectRoot,'data',projectDate,subject);\n",
    "load(fullfile(dataPath, 'ccm_neuronTypes'))\n"
   ]
  },
  {
   "cell_type": "code",
   "execution_count": null,
   "metadata": {
    "collapsed": true
   },
   "outputs": [],
   "source": [
    "%%matlab\n",
    "\n",
    "neuronTypes.Properties.VariableNames\n"
   ]
  },
  {
   "cell_type": "markdown",
   "metadata": {},
   "source": [
    "### Name the category (for file name) and determine indices from ccm_neuronTypes table"
   ]
  },
  {
   "cell_type": "code",
   "execution_count": null,
   "metadata": {
    "collapsed": true
   },
   "outputs": [],
   "source": [
    "%%matlab\n",
    "% \n",
    "categoryName = 'fix';\n",
    "% categoryName = 'presacc';\n",
    "% categoryName = 'visPresacc';\n",
    "% categoryName = 'presaccNoVis';\n",
    "% categoryName = 'visNoPresacc';\n",
    "% categoryName = 'postsaccNoPresacc';\n",
    "categoryName = 'ddm';\n",
    "categoryName = 'presaccRamp';\n",
    "categoryName = 'reward';\n",
    "categoryName = 'intertrial';\n",
    "\n",
    "\n",
    "% Which category of neuron are we wanting to analyze?\n",
    "% example: ind = neuronTypes.presacc & ~neuronTypes.vis;\n",
    "ind = neuronTypes.vis & ~neuronTypes.presacc;\n",
    "ind = neuronTypes.fix;\n",
    "ind = neuronTypes.presacc & ~neuronTypes.vis;\n",
    "ind = neuronTypes.postsacc & ~neuronTypes.presacc;\n",
    "ind = neuronTypes.reward;\n",
    "ind = neuronTypes.intertrial;\n",
    "\n"
   ]
  },
  {
   "cell_type": "markdown",
   "metadata": {},
   "source": [
    "### Walk through neurons to ensure proper modulation for given category"
   ]
  },
  {
   "cell_type": "code",
   "execution_count": null,
   "metadata": {
    "collapsed": true
   },
   "outputs": [],
   "source": [
    "\n",
    "% Establish options to send to ccm_session_data in the for loop below\n",
    "opt             = ccm_options;\n",
    "opt.howProcess  = 'print';\n",
    "opt.plotFlag    = true;\n",
    "opt.printPlot    = true;\n",
    "opt.dataType    = 'neuron';\n",
    "opt.collapseTarg \t= true;\n",
    "opt.collapseSignal \t= true;\n",
    "opt.doStops \t= false;\n",
    "\n",
    "\n",
    "append = false;\n",
    "\n",
    "if append\n",
    "    % Option to load previous neurons table and add to it\n",
    "    load(fullfile(dataPath, ['ccm_',categoryName,'_neurons']))\n",
    "    lastSess = neurons.sessionID(end);\n",
    "    lastUnit = neurons.unit(end);\n",
    "    sessionInd = find(ind);\n",
    "    lastInd = find(strcmp(lastSess, neuronTypes.sessionID(sessionInd)) & strcmp(lastUnit, neuronTypes.unit(sessionInd)));\n",
    "    startInd = lastInd(end) + 1;\n",
    "else\n",
    "    % Otherwise start a new table for this category\n",
    "    neurons = table();\n",
    "    startInd = 1;\n",
    "    sessionInd = find(ind);\n",
    "end\n",
    "\n",
    "\n",
    "for i = startInd : length(sessionInd)\n",
    "    unitInfo = table();\n",
    "    unitInfo.sessionID  = neuronTypes.sessionID(sessionInd(i));\n",
    "    unitInfo.unit       = neuronTypes.unit(sessionInd(i));\n",
    "    unitInfo.hemisphere  = neuronTypes.hemisphere(sessionInd(i));\n",
    "    unitInfo.rf         = neuronTypes.rf(sessionInd(i));\n",
    "    \n",
    "    fprintf('%02d of %d\\t%s\\t%s\\n',i,length(sessionInd), neuronTypes.sessionID{sessionInd(i)},neuronTypes.unit{sessionInd(i)})\n",
    "    fprintf('Hem: %s\\tRF: %s\\n',neuronTypes.hemisphere{sessionInd(i)},neuronTypes.rf{sessionInd(i)})\n",
    "    \n",
    "    opt.unitArray = unitInfo.unit;\n",
    "    opt.hemisphere = neuronTypes.hemisphere{sessionInd(i)};\n",
    "    opt.printPlot = true;\n",
    "    \n",
    "    pdfName = [neuronTypes.sessionID{sessionInd(i)},'_',neuronTypes.unit{sessionInd(i)},'_ccm_neuron_collapse.pdf'];\n",
    "    if exist(fullfile(local_figure_path,subject,pdfName))\n",
    "      open(fullfile(local_figure_path,subject,pdfName))\n",
    "    else\n",
    "      iData = ccm_session_data(subject, neuronTypes.sessionID{sessionInd(i)}, opt);\n",
    "    end\n",
    "    \n",
    "    \n",
    "    prompt = 'add to list?';\n",
    "    addToList = input(prompt);\n",
    "    if addToList\n",
    "        \n",
    "        neurons = [neurons; unitInfo];\n",
    "        save(fullfile(dataPath, ['ccm_',categoryName,'_neurons']), 'neurons')\n",
    "        \n",
    "    end\n",
    "    clear iData\n",
    "end\n",
    "\n"
   ]
  },
  {
   "cell_type": "markdown",
   "metadata": {},
   "source": [
    "###Alternatively, use another list to get a  subset of those"
   ]
  },
  {
   "cell_type": "code",
   "execution_count": null,
   "metadata": {
    "collapsed": true
   },
   "outputs": [],
   "source": [
    "\n",
    "% Establish options to send to ccm_session_data in the for loop below\n",
    "opt             = ccm_options;\n",
    "opt.howProcess  = 'print';\n",
    "opt.plotFlag    = true;\n",
    "opt.printPlot    = true;\n",
    "opt.dataType    = 'neuron';\n",
    "opt.collapseTarg \t= true;\n",
    "opt.collapseSignal \t= true;\n",
    "opt.doStops \t= false;\n",
    "\n",
    "\n",
    "neurons = table();\n",
    "presacc = load(fullfile(dataPath, ['ccm_presacc_neurons']));\n",
    "\n",
    "\n",
    "startInd = 1;\n",
    "nUnit = length(presacc.neurons.sessionID);\n",
    "for i = startInd : nUnit\n",
    "    unitInfo = table();\n",
    "    unitInfo.sessionID  = presacc.neurons.sessionID(i);\n",
    "    unitInfo.unit       = presacc.neurons.unit(i);\n",
    "    unitInfo.hemisphere  = presacc.neurons.hemisphere(i);\n",
    "    unitInfo.rf         = presacc.neurons.rf(i);\n",
    "    \n",
    "    fprintf('%02d of %d\\t%s\\t%s\\n',i,nUnit, presacc.neurons.sessionID{i},presacc.neurons.unit{i})\n",
    "    fprintf('Hem: %s\\tRF: %s\\n',presacc.neurons.hemisphere{i},presacc.neurons.rf{i})\n",
    "    \n",
    "    opt.unitArray = unitInfo.unit;\n",
    "    opt.hemisphere = presacc.neurons.hemisphere(i);\n",
    "    opt.printPlot = true;\n",
    "    \n",
    "    pdfName = [presacc.neurons.sessionID{i},'_',presacc.neurons.unit{i},'_ccm_neuron_collapse.pdf'];\n",
    "    if exist(fullfile(local_figure_path,subject,pdfName))\n",
    "      open(fullfile(local_figure_path,subject,pdfName))\n",
    "    else\n",
    "      iData = ccm_session_data(subject, presacc.neurons.sessionID(i), opt);\n",
    "    end\n",
    "    \n",
    "    \n",
    "    prompt = 'add to list?';\n",
    "    addToList = input(prompt);\n",
    "    if addToList\n",
    "        \n",
    "        neurons = [neurons; unitInfo];\n",
    "        save(fullfile(dataPath, ['ccm_',categoryName,'_neurons']), 'neurons')\n",
    "        \n",
    "    end\n",
    "    clear iData\n",
    "end\n",
    "\n"
   ]
  },
  {
   "cell_type": "markdown",
   "metadata": {},
   "source": [
    "### Alternatively, use two lists to loop through\n",
    "#### example: Loop through presacc neurons to remove those without visual responses, leaving vis/mov (visPresacc)"
   ]
  },
  {
   "cell_type": "code",
   "execution_count": null,
   "metadata": {
    "collapsed": true
   },
   "outputs": [],
   "source": [
    "categoryName = 'visPresacc';\n",
    "presaccNoVis = load(fullfile(dataPath, ['ccm_presaccNoVis_neurons']));\n",
    "presacc = load(fullfile(dataPath, ['ccm_presacc_neurons']));\n",
    "\n",
    "% Loop through the presacc neurons. If the neuron exists in the presaccNoVis list, remove it\n",
    "nUnit = length(presaccNoVis.neurons.sessionID);\n",
    "remove = [];\n",
    "for i = 1 : nUnit\n",
    "    iRemove = find(strcmp(presacc.neurons.sessionID, presaccNoVis.neurons.sessionID(i)) &...\n",
    "                   strcmp(presacc.neurons.unit, presaccNoVis.neurons.unit(i)))\n",
    "\n",
    "    remove = [remove, iRemove];\n",
    "end\n",
    "\n",
    "presacc.neurons(remove,:) = []\n",
    "neurons = presacc.neurons;\n",
    "save(fullfile(dataPath, ['ccm_',categoryName,'_neurons']), 'neurons')\n"
   ]
  },
  {
   "cell_type": "markdown",
   "metadata": {},
   "source": [
    "### Alternatively, combine two lists\n",
    "#### example: Combine visPresacc and presaccNoVis to create presacc"
   ]
  },
  {
   "cell_type": "code",
   "execution_count": null,
   "metadata": {
    "collapsed": true
   },
   "outputs": [],
   "source": [
    "categoryName = 'presacc';\n",
    "presaccNoVis = load(fullfile(dataPath, ['ccm_presaccNoVis_neurons']));\n",
    "visPresacc = load(fullfile(dataPath, ['ccm_visPresacc_neurons']));\n",
    "\n",
    "neurons = [visPresacc.neurons; presaccNoVis.neurons]\n",
    "save(fullfile(dataPath, ['ccm_',categoryName,'_neurons']), 'neurons')\n"
   ]
  },
  {
   "cell_type": "markdown",
   "metadata": {},
   "source": [
    "### Step 3.2 - Process the list of sessions to get population data"
   ]
  },
  {
   "cell_type": "code",
   "execution_count": null,
   "metadata": {
    "collapsed": true
   },
   "outputs": [],
   "source": [
    "%% matlab\n",
    "\n",
    "categoryList = {'visNoPresacc', 'presaccNoVis', 'visPresacc', 'presaccRamp', 'ddm','postsaccNoPresacc', 'reward', 'intertrial'};\n",
    "categoryList = {'fix', 'visNoPresacc', 'presacc', 'presaccNoVis', 'visPresacc', 'postsaccNoPresacc'};\n",
    "categoryList = {'presacc'};\n",
    "categoryList = {'ding_gold_ddm_Stim'};\n",
    "for i = 1 : length(categoryList)\n",
    "    clear Data\n",
    "    load(fullfile(dataPath, ['ccm_',categoryList{i},'_neurons']))\n",
    "\n",
    "    opt             = ccm_options;\n",
    "    opt.sessionArray = neurons.sessionID;\n",
    "    opt.unitArray   = neurons.unit;\n",
    "    opt.rfList      = neurons.rf;\n",
    "    opt.hemisphereList      = neurons.hemisphere;\n",
    "    \n",
    "    opt.sessionSet  = [];\n",
    "    opt.howProcess  = 'print';\n",
    "    opt.plotFlag    = false;\n",
    "    opt.dataType    = 'neuron';\n",
    "    opt.collapseTarg \t= true;\n",
    "    opt.doStops \t= true;\n",
    "\n",
    "    Data = ccm_population_neuron(subject, opt)\n",
    "\n",
    "    save(fullfile(dataPath, ['ccm_',categoryList{i},'_neuron_population']), 'Data')\n",
    "end\n"
   ]
  },
  {
   "cell_type": "markdown",
   "metadata": {},
   "source": [
    "## Step 4: Plot population data"
   ]
  },
  {
   "cell_type": "code",
   "execution_count": null,
   "metadata": {
    "collapsed": true
   },
   "outputs": [],
   "source": [
    "subject = 'broca';\n",
    "categoryList = {'fix', 'presacc', 'visNoPresacc', 'presaccNoVis', 'visPresacc', 'presaccRamp', 'ddm', 'postsaccNoPresacc'};\n",
    "categoryList = {'presacc'};\n",
    "opt = ccm_population_neuron_plot;\n",
    "opt.normalizeData = false;\n",
    "\n",
    "for i = 1 : length(categoryList)\n",
    "opt.categoryName = categoryList{i};\n",
    "\n",
    "    ccm_population_neuron_plot(subject,projectRoot,projectDate,opt)\n",
    "end\n"
   ]
  },
  {
   "cell_type": "markdown",
   "metadata": {},
   "source": [
    "## Step 5: Plot population Checker on and Saccade data a la Roitman Shadlen 2002"
   ]
  },
  {
   "cell_type": "code",
   "execution_count": null,
   "metadata": {
    "collapsed": true
   },
   "outputs": [],
   "source": [
    "subject = 'broca';\n",
    "categoryList = {'fix', 'presacc', 'visNoPresacc', 'presaccNoVis', 'visPresacc', 'postsaccNoPresacc'};\n",
    "opt = ccm_population_roit_shad_2002;\n",
    "\n",
    "for i = 1 : length(categoryList)\n",
    "opt.categoryName = categoryList{i};\n",
    "\n",
    "    ccm_population_roit_shad_2002(subject,projectRoot,projectDate,opt)\n",
    "end\n"
   ]
  },
  {
   "cell_type": "markdown",
   "metadata": {},
   "source": [
    "# POPULATION NEURAL RESPONSES ON STOP TRIALS \n"
   ]
  },
  {
   "cell_type": "code",
   "execution_count": null,
   "metadata": {
    "collapsed": true
   },
   "outputs": [],
   "source": [
    "categoryName = 'presacc';\n",
    "opt = ccm_options;\n",
    "opt.categoryName = categoryName;\n",
    "\n",
    "ccm_neuron_inhibition_population(subject,projectRoot,projectDate,opt)\n"
   ]
  },
  {
   "cell_type": "markdown",
   "metadata": {},
   "source": [
    "# POPULATION DDM-LIKE a la Ding & Gold 2012\n"
   ]
  },
  {
   "cell_type": "code",
   "execution_count": null,
   "metadata": {
    "collapsed": true
   },
   "outputs": [],
   "source": [
    "append = false;\n",
    "\n",
    "ccm_classify_neuron_ding_gold_pop(subject,projectRoot,projectDate, append)\n"
   ]
  },
  {
   "cell_type": "markdown",
   "metadata": {},
   "source": [
    "### Walk through neurons to ensure proper DDM categorization"
   ]
  },
  {
   "cell_type": "code",
   "execution_count": null,
   "metadata": {
    "collapsed": true
   },
   "outputs": [],
   "source": [
    "categoryName = 'ding_gold_ddm_';\n",
    "epoch = 'Stim';\n",
    "\n",
    "% Establish options to send to ccm_session_data in the for loop below\n",
    "opt             = ccm_options;\n",
    "opt.howProcess  = 'print';\n",
    "opt.plotFlag    = true;\n",
    "opt.printPlot    = true;\n",
    "opt.dataType    = 'neuron';\n",
    "opt.collapseTarg \t= true;\n",
    "opt.collapseSignal \t= false;\n",
    "opt.doStops \t= false;\n",
    "\n",
    "\n",
    "append = false;\n",
    "\n",
    "if append\n",
    "    % Option to load previous neurons table and add to it\n",
    "    load(fullfile(dataPath, ['ccm_',categoryName, epoch,'_neurons']))\n",
    "    lastSess = neurons.sessionID(end);\n",
    "    lastUnit = neurons.unit(end);\n",
    "    sessionInd = find(ind);\n",
    "    lastInd = find(strcmp(lastSess, neuronTypes.sessionID(sessionInd)) & strcmp(lastUnit, neuronTypes.unit(sessionInd)));\n",
    "    startInd = lastInd(end) + 1;\n",
    "else\n",
    "    % Otherwise start a new table for this category\n",
    "    load(fullfile(dataPath, ['ccm_ding_gold_neuronTypes']))\n",
    "    neuronTypes = neuronTypes(strcmp(neuronTypes.epoch, epoch),:);\n",
    "    neurons = table();\n",
    "    startInd = 1;\n",
    "    sessionInd = find(neuronTypes.ddm);\n",
    "end\n",
    "\n",
    "\n",
    "for i = startInd : length(sessionInd)\n",
    "    unitInfo = table();\n",
    "    unitInfo.sessionID  = neuronTypes.sessionID(sessionInd(i));\n",
    "    unitInfo.unit       = neuronTypes.unit(sessionInd(i));\n",
    "    unitInfo.hemisphere  = neuronTypes.hemisphere(sessionInd(i));\n",
    "    unitInfo.rf  = neuronTypes.rf(sessionInd(i));\n",
    "    \n",
    "    fprintf('%02d of %d\\t%s\\t%s\\n',i,length(sessionInd), neuronTypes.sessionID{sessionInd(i)},neuronTypes.unit{sessionInd(i)})\n",
    "    fprintf('Hem: %s\\n',neuronTypes.hemisphere{sessionInd(i)})\n",
    "    \n",
    "    opt.unitArray = unitInfo.unit;\n",
    "    opt.hemisphere = neuronTypes.hemisphere{sessionInd(i)};\n",
    "    opt.printPlot = true;\n",
    "    \n",
    "    pdfName = [neuronTypes.sessionID{sessionInd(i)},'_ccm_',neuronTypes.unit{sessionInd(i)},'_neuron.pdf'];\n",
    "    if exist(fullfile(local_figure_path,subject,pdfName))\n",
    "      open(fullfile(local_figure_path,subject,pdfName))\n",
    "    else\n",
    "      iData = ccm_session_data(subject, neuronTypes.sessionID{sessionInd(i)}, opt);\n",
    "    end\n",
    "    \n",
    "    \n",
    "    prompt = 'add to list?';\n",
    "    addToList = input(prompt);\n",
    "    if addToList\n",
    "        \n",
    "        neurons = [neurons; unitInfo];\n",
    "        save(fullfile(dataPath, ['ccm_',categoryName, epoch, '_neurons']), 'neurons')\n",
    "        \n",
    "    end\n",
    "    clear iData\n",
    "end\n",
    "\n"
   ]
  },
  {
   "cell_type": "markdown",
   "metadata": {},
   "source": [
    "# Compare proportions of DDM-like among other cell classes\n"
   ]
  },
  {
   "cell_type": "code",
   "execution_count": null,
   "metadata": {
    "collapsed": true
   },
   "outputs": [],
   "source": [
    "dataPath = fullfile(projectRoot,'data',projectDate,subject);\n",
    "\n",
    "dgEpoch = 'Stim';\n",
    "cEpoch = 'visPresacc';\n",
    "\n",
    "% Ding and gold neuron classifications\n",
    "dg = load(fullfile(dataPath, ['ccm_ding_gold_ddm_', dgEpoch, '_neurons']));\n",
    "ddm = dg.neurons;\n",
    "\n",
    "% Classic neuron classifications\n",
    "c = load(fullfile(dataPath, ['ccm_',cEpoch,'_neurons']));\n",
    "presacc = c.neurons;\n",
    "\n",
    "\n",
    "presaccDdm = intersect(presacc, ddm)\n"
   ]
  },
  {
   "cell_type": "markdown",
   "metadata": {},
   "source": [
    "# CANCEL TIMES ANALYSES\n"
   ]
  },
  {
   "cell_type": "code",
   "execution_count": null,
   "metadata": {
    "collapsed": true
   },
   "outputs": [],
   "source": [
    "\n",
    "append = false;\n",
    "\n",
    "ccm_neuron_stop_vs_go_pop(subject,projectRoot,projectDate, append)\n"
   ]
  },
  {
   "cell_type": "code",
   "execution_count": null,
   "metadata": {
    "collapsed": true
   },
   "outputs": [],
   "source": [
    "\n",
    "% load a list of neurons sessions and units\n",
    "category = 'presacc';\n",
    "load(fullfile(dataPath, ['ccm_',category,'_neurons']))\n",
    "\n",
    "% load the population of cancel time anlysis\n",
    "load(fullfile(dataPath, ['ccm_canceled_vs_go_neuronTypes']))\n",
    "\n",
    "% Build a new table of the relevant neurons, and a list of the session/Unit\n",
    "cancelData = table();\n",
    "sessionUnitTable = table();\n",
    "for i = 1 : size(neurons, 1)\n",
    "    % find the indices in neuronTypes that correspond to this unit\n",
    "    iInd = strcmp(neurons.sessionID(i), neuronTypes.sessionID) & strcmp(neurons.unit(i), neuronTypes.unit);\n",
    "    cancelData = [cancelData; neuronTypes(iInd,:)];\n",
    "    \n",
    "    iSessionUnit = table();\n",
    "    sessionUnitInd = find(iInd, 1);\n",
    "    iSessionUnit.sessionID = neuronTypes.sessionID(sessionUnitInd);\n",
    "    iSessionUnit.unit = neuronTypes.unit(sessionUnitInd);\n",
    "    iSessionUnit.hemisphere = neuronTypes.hemisphere(sessionUnitInd);\n",
    "    iSessionUnit.rf = neuronTypes.rf(sessionUnitInd);\n",
    "    sessionUnitTable = [sessionUnitTable; iSessionUnit];\n",
    "end\n",
    "\n",
    "\n",
    "\n",
    "alphaVal = .05;\n",
    "\n",
    "% How many were go vs stop different during 40 ms peri-SSRT?\n",
    "peri40msInd = cancelData.pValue40msStopStop < alphaVal;\n",
    "notPeri40ms = cancelData.pValue40msStopStop >= alphaVal;\n",
    "\n",
    "pPeri40ms = sum(peri40msInd) / (sum(peri40msInd) + sum(notPeri40ms));\n",
    "\n",
    "\n",
    "\n",
    "%   START HERE TO USE cancelTime2Std TO SORT NEURONS\n",
    "cancelData.cancelTime = cancelData.cancelTime2Std - cancelData.stopStopSsd - cancelData.ssrt;\n",
    "\n",
    "\n",
    "% How many conditions out of all possible canceled?\n",
    "nCancelCond = sum(~isnan(cancelData.cancelTime));\n",
    "nTotal = size(cancelData, 1);\n",
    "pCancelCond = nCancelCond / nTotal\n",
    "\n",
    "% What's the full distribution of cancel times?\n",
    "cancelCond = cancelData.cancelTime(~isnan(cancelData.cancelTime))\n",
    "\n",
    "\n",
    "% How many neurons had at least one condition that \"canceled\"?\n",
    "neurons = zeros(size(sessionUnitTable, 1), 1);\n",
    "nCancelPerNeuron = zeros(size(sessionUnitTable, 1), 1);\n",
    "nCondPerNeuron = zeros(size(sessionUnitTable, 1), 1);\n",
    "for i = 1 : size(sessionUnitTable, 1)\n",
    "    iCond = strcmp(sessionUnitTable.sessionID(i), cancelData.sessionID) & strcmp(sessionUnitTable.unit(i), cancelData.unit);\n",
    "    \n",
    "    % How many conditions canceled for this neuron?\n",
    "    nCancelPerNeuron(i) = sum(~isnan(cancelData.cancelTime(iCond)));\n",
    "    % How many potential conditions to cancel for this neuron?\n",
    "    nCondPerNeuron(i) = sum(iCond);\n",
    "    \n",
    "    % If any condition canceled for this neuron, count it as a \"cancel\"\n",
    "    % neuron\n",
    "    if sum(~isnan(cancelData.cancelTime(iCond)))\n",
    "        neurons(i) = 1;\n",
    "    end\n",
    "end\n",
    "nNeuronCond = sum(neurons);\n",
    "% Probability of a neuron to have at least one condition that cancels\n",
    "pNeuronCond = nNeuronCond /size(sessionUnitTable, 1)\n",
    "%disp([sessionUnitTable, num2cell(nCancelPerNeuron)])\n",
    "\n",
    "\n",
    "% Which units canceled?\n",
    "presaccCancel = sessionUnitTable(nCancelPerNeuron>0, :);\n"
   ]
  },
  {
   "cell_type": "markdown",
   "metadata": {},
   "source": [
    "### Compare units that canceled with DDM-like units for this category"
   ]
  },
  {
   "cell_type": "code",
   "execution_count": null,
   "metadata": {
    "collapsed": true
   },
   "outputs": [],
   "source": [
    "dataPath = fullfile(projectRoot,'data',projectDate,subject);\n",
    "\n",
    "dgEpoch = 'Stim';\n",
    "cEpoch = 'presacc';\n",
    "\n",
    "% Ding and gold neuron classifications\n",
    "dg = load(fullfile(dataPath, ['ccm_ding_gold_ddm_', dgEpoch, '_neurons']));\n",
    "ddm = dg.neurons;\n",
    "%ddm(:, {'rf'}) = []\n",
    "\n",
    "% Classic neuron classifications\n",
    "c = load(fullfile(dataPath, ['ccm_',cEpoch,'_neurons']));\n",
    "presacc = c.neurons;\n",
    "%presacc(:, {'rf', 'hemisphere'}) = []\n",
    "\n",
    "\n",
    "presaccDdm = intersect(presacc, ddm);\n",
    "\n",
    "[~, iPre, iBoth] = setxor(presaccCancel, presaccDdm);\n",
    "presaccCancelNoDdm = presaccCancel(iPre,:);\n",
    "presaccDdmNoCancel = presaccDdm(iBoth,:);\n",
    "presaccDdmCancel = intersect(presaccDdm, presaccCancel);\n",
    "\n",
    "\n",
    "% Save the units as population data, to be called later efficiently\n",
    "neurons = presaccCancel;\n",
    "save(fullfile(dataPath, ['ccm_presaccCancel_neurons']), 'neurons')\n",
    "\n",
    "neurons = presaccDdm;\n",
    "save(fullfile(dataPath, ['ccm_presaccDdm_neurons']), 'neurons')\n",
    "\n",
    "neurons = presaccCancelNoDdm;\n",
    "save(fullfile(dataPath, ['ccm_presaccCancelNoDdm_neurons']), 'neurons')\n",
    "\n",
    "neurons = presaccDdmNoCancel;\n",
    "save(fullfile(dataPath, ['ccm_presaccDdmNoCancel_neurons']), 'neurons')\n",
    "\n",
    "neurons = presaccDdmCancel;\n",
    "save(fullfile(dataPath, ['ccm_presaccDdmCancel_neurons']), 'neurons')\n",
    "\n",
    "\n",
    "\n"
   ]
  },
  {
   "cell_type": "markdown",
   "metadata": {},
   "source": [
    "### Population spike density functions for each category of neuron"
   ]
  },
  {
   "cell_type": "code",
   "execution_count": null,
   "metadata": {
    "collapsed": true
   },
   "outputs": [],
   "source": [
    "%% matlab\n",
    "\n",
    "categoryList = {'presaccCancel', 'presaccDdm', 'presaccCancelNoDdm', 'presaccDdmNoCancel', 'presaccDdmCancel'}\n",
    "for i = 1 : length(categoryList)\n",
    "    clear Data\n",
    "    load(fullfile(dataPath, ['ccm_',categoryList{i},'_neurons']))\n",
    "\n",
    "    opt             = ccm_options;\n",
    "    opt.sessionArray = neurons.sessionID;\n",
    "    opt.unitArray   = neurons.unit;\n",
    "    opt.rfList      = neurons.rf;\n",
    "    opt.hemisphereList      = neurons.hemisphere;\n",
    "\n",
    "    opt.sessionSet  = [];\n",
    "    opt.howProcess  = 'print';\n",
    "    opt.plotFlag    = false;\n",
    "    opt.dataType    = 'neuron';\n",
    "    opt.collapseTarg \t= true;\n",
    "    opt.doStops \t= true;\n",
    "\n",
    "    Data = ccm_population_neuron(subject, opt)\n",
    "\n",
    "    save(fullfile(dataPath, ['ccm_',categoryList{i},'_neuron_population']), 'Data')\n",
    "end\n"
   ]
  },
  {
   "cell_type": "code",
   "execution_count": null,
   "metadata": {
    "collapsed": true
   },
   "outputs": [],
   "source": [
    "subject = 'broca';\n",
    "categoryList = {'fix', 'presacc', 'visNoPresacc', 'presaccNoVis', 'visPresacc', 'postsaccNoPresacc'};\n",
    "categoryList = {'fix'}\n",
    "opt = ccm_population_neuron_plot;\n",
    "opt.normalizeData = false;\n",
    "\n",
    "for i = 1 : length(categoryList)\n",
    "opt.categoryName = categoryList{i};\n",
    "\n",
    "    ccm_population_neuron_plot(subject,projectRoot,projectDate,opt)\n",
    "end\n"
   ]
  }
 ],
 "metadata": {
  "kernelspec": {
   "display_name": "Python 2",
   "language": "python",
   "name": "python2"
  },
  "language_info": {
   "codemirror_mode": {
    "name": "ipython",
    "version": 2
   },
   "file_extension": ".py",
   "mimetype": "text/x-python",
   "name": "python",
   "nbconvert_exporter": "python",
   "pygments_lexer": "ipython2",
   "version": "2.7.10"
  }
 },
 "nbformat": 4,
 "nbformat_minor": 0
}
