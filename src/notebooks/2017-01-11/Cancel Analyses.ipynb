{
 "cells": [
  {
   "cell_type": "markdown",
   "metadata": {},
   "source": [
    "# CANCEL TIMES ANALYSES\n"
   ]
  },
  {
   "cell_type": "code",
   "execution_count": null,
   "metadata": {
    "collapsed": true
   },
   "outputs": [],
   "source": [
    "%%matlab\n",
    "\n",
    "subject = 'broca';\n",
    "\n",
    "projectDate = '2017-01-11';\n",
    "projectRoot = '/Volumes/HD-1/Users/paulmiddlebrooks/perceptualchoice_stop_spikes_population';\n",
    "\n",
    "addpath(genpath(fullfile(projectRoot,'src/code',projectDate)));\n",
    "dataPath = fullfile(projectRoot,'data',projectDate,subject);\n",
    "\n"
   ]
  },
  {
   "cell_type": "markdown",
   "metadata": {},
   "source": [
    "## Population Stop vs Go"
   ]
  },
  {
   "cell_type": "code",
   "execution_count": null,
   "metadata": {
    "collapsed": true
   },
   "outputs": [],
   "source": [
    "\n",
    "append = false;\n",
    "\n",
    "opt             = ccm_neuron_stop_vs_go;\n",
    "opt.append = append;\n",
    "opt.howProcess  = 'each';\n",
    "opt.plotFlag    = true;\n",
    "opt.printPlot    = true;\n",
    "opt.minTrialPerCond \t= 10;\n",
    "opt.ms2Std \t= 75;\n",
    "\n",
    "opt.multiUnit    = multiUnit;\n",
    "\n",
    "opt.ssrt = ssrtUse;\n",
    "\n",
    "\n",
    "opt.ANALYZE_CANCELED = true;\n",
    "opt.ANALYZE_NONCANCELED = false;\n",
    "\n",
    "opt.parpoolSize = 5;\n",
    "\n",
    "ccm_neuron_stop_vs_go_pop(subject,projectRoot,projectDate, opt)\n"
   ]
  },
  {
   "cell_type": "markdown",
   "metadata": {},
   "source": [
    "## Proportions of cancel times, using mean SDF deflection analysis"
   ]
  },
  {
   "cell_type": "code",
   "execution_count": null,
   "metadata": {
    "collapsed": true
   },
   "outputs": [],
   "source": [
    "if strcmp(cancelType, 'meanSdf')\n",
    "\n",
    "    latestTime = 20;  % how late w.r.t. ssrt can a neuron cancel to be considered a \"canceling\" unit?\n",
    "\n",
    "    % load a list of neurons sessions and units\n",
    "    categoryList = {'presacc','presaccNoVis','presaccRamp','visPresacc','presaccPeak'};\n",
    "    categoryList = {'presacc'};\n",
    "\n",
    "    % Build a new table of the relevant neurons, and a list of the session/Unit\n",
    "    for i = 1 : length(categoryList)\n",
    "\n",
    "        catFileName = fullfile(dataPath, ['ccm_',categoryList{i},'_neurons', addMulti]);\n",
    "        load(catFileName)\n",
    "\n",
    "        % load the population of cancel time anlysis\n",
    "        fileName = fullfile(dataPath, 'go_vs_canceled', ssrtUse, ['ccm_canceled_vs_go_neuronTypes', addMulti]);\n",
    "        load(fileName)\n",
    "\n",
    "        % Build a table of the cancelTypes data corresponding to the classic category units\n",
    "        cancelData = table();\n",
    "        for j = 1 : size(neurons, 1)\n",
    "            % find the indices in cancelTypes that correspond to this unit\n",
    "            iInd = strcmp(neurons.sessionID(j), cancelTypes.sessionID) & strcmp(neurons.unit(j), cancelTypes.unit);\n",
    "            cancelData = [cancelData; cancelTypes(iInd,:)];\n",
    "        end\n",
    "\n",
    "\n",
    "        % Probability of a neuron to have at least one condition that cancels in time\n",
    "        cancelLogical = cellfun(@(x) x < latestTime, cancelData.cancelTimeSdf, 'uni', false);\n",
    "        cancelInTimeInd = cell2mat(cellfun(@(x) sum(x), cancelLogical, 'uni', false));\n",
    "        fprintf('\\nProportion of neurons with at least one valid cancel time < %d: %d of %d\\t%.2f\\n', latestTime, sum(cancelInTimeInd>0), size(neurons, 1), sum(cancelInTimeInd>0)/size(neurons, 1))\n",
    "\n",
    "\n",
    "\n",
    "        % Which units canceled?\n",
    "        presaccCancel = neurons(cancelInTimeInd > 0, :);\n",
    "        presaccNoCancel = neurons(cancelInTimeInd == 0, :);\n",
    "\n",
    "        load(catFileName)\n",
    "        neurons = neurons(cancelInTimeInd > 0, :);\n",
    "        sFileName = fullfile(dataPath, ['ccm_',categoryList{i},'_cancel_',cancelType,'_neurons', addMulti]);\n",
    "        save(sFileName, 'neurons')\n",
    "\n",
    "\n",
    "        load(catFileName)\n",
    "        neurons = neurons(cancelInTimeInd == 0, :);\n",
    "        sFileName = fullfile(dataPath, ['ccm_',categoryList{i},'_noCancel_',cancelType,'_neurons', addMulti]);\n",
    "        save(sFileName, 'neurons')\n",
    "\n",
    "    end\n",
    "else\n",
    "    disp('Tyring to do mean SDF analysis but set for some other cancelType')\n",
    "end\n"
   ]
  },
  {
   "cell_type": "markdown",
   "metadata": {},
   "source": [
    "## Proportions of cancel times, using Trial-by-trial SDF deflection analysis"
   ]
  },
  {
   "cell_type": "code",
   "execution_count": null,
   "metadata": {
    "collapsed": true
   },
   "outputs": [],
   "source": [
    "if strcmp(cancelType, 'trialByTrial')\n",
    "\n",
    "    latestTime = 20;  % how late w.r.t. ssrt can a neuron cancel to be considered a \"canceling\" unit?\n",
    "\n",
    "    % load a list of neurons sessions and units\n",
    "    categoryList = {'presacc','presaccNoVis','presaccRamp','visPresacc','presaccPeak'};\n",
    "    categoryList = {'presacc'};\n",
    "\n",
    "    % Build a new table of the relevant neurons, and a list of the session/Unit\n",
    "    for i = 1 : length(categoryList)\n",
    "\n",
    "        catFileName = fullfile(dataPath, ['ccm_',categoryList{i},'_neurons', addMulti]);\n",
    "        load(catFileName)\n",
    "\n",
    "        % load the population of cancel time anlysis\n",
    "        fileName = fullfile(dataPath, 'go_vs_canceled', ssrtUse, ['ccm_canceled_vs_go_neuronTypes', addMulti]);\n",
    "        load(fileName)\n",
    "\n",
    "        % Build a table of the cancelTypes data corresponding to the classic category units\n",
    "        cancelData = table();\n",
    "        for j = 1 : size(neurons, 1)\n",
    "            % find the indices in cancelTypes that correspond to this unit\n",
    "            iInd = strcmp(neurons.sessionID(j), cancelTypes.sessionID) & strcmp(neurons.unit(j), cancelTypes.unit);\n",
    "            cancelData = [cancelData; cancelTypes(iInd,:)];\n",
    "\n",
    "\n",
    "        end\n",
    "\n",
    "        % A neuron \"cancels\" if one of its condition's mean cancel time is within latestTime\n",
    "        cancelTimeDistMean = cell(size(cancelData, 1), 1);\n",
    "        for j = 1 : size(cancelData, 1)\n",
    "            cancelTimeDistMean{j} = cellfun(@nanmean, cancelData.cancelTimeDist{j});\n",
    "        end\n",
    "        cancelData.cancelTimeDistMean = cancelTimeDistMean;\n",
    "\n",
    "        % Probability of a neuron to have at least one condition that cancels in time\n",
    "        cancelLogical = cellfun(@(x) x < latestTime, cancelData.cancelTimeDistMean, 'uni', false);\n",
    "        cancelInTimeInd = cell2mat(cellfun(@(x) sum(x), cancelLogical, 'uni', false));\n",
    "        fprintf('\\nProportion of neurons with at least one valid cancel time < %d: %d of %d\\t%.2f\\n', latestTime, sum(cancelInTimeInd>0), size(neurons, 1), sum(cancelInTimeInd>0)/size(neurons, 1))\n",
    "\n",
    "\n",
    "\n",
    "        % Which units canceled?\n",
    "        presaccCancel = neurons(cancelInTimeInd > 0, :);\n",
    "        presaccNoCancel = neurons(cancelInTimeInd == 0, :);\n",
    "\n",
    "        load(catFileName)\n",
    "        neurons = neurons(cancelInTimeInd > 0, :);\n",
    "        sFileName = fullfile(dataPath, ['ccm_',categoryList{i},'_cancel_',cancelType,'_neurons', addMulti]);\n",
    "        save(sFileName, 'neurons')\n",
    "\n",
    "\n",
    "        load(catFileName)\n",
    "        neurons = neurons(cancelInTimeInd == 0, :);\n",
    "        sFileName = fullfile(dataPath, ['ccm_',categoryList{i},'_noCancel_',cancelType,'_neurons', addMulti]);\n",
    "        save(sFileName, 'neurons')\n",
    "\n",
    "    end\n",
    "else\n",
    "    disp('Tyring to do mean SDF analysis but set for some other cancelType')\n",
    "end\n"
   ]
  },
  {
   "cell_type": "markdown",
   "metadata": {},
   "source": [
    "## Proportions of cancel times, using Hanes&Schall98 criteria"
   ]
  },
  {
   "cell_type": "code",
   "execution_count": null,
   "metadata": {
    "collapsed": true
   },
   "outputs": [],
   "source": [
    "if strcmp(cancelType, 'meanDifference')\n",
    "\n",
    "    latestTime = 20;  % how late w.r.t. ssrt can a neuron cancel to be considered a \"canceling\" unit?\n",
    "\n",
    "    % load a list of neurons sessions and units\n",
    "    categoryList = {'presacc','presaccNoVis','presaccRamp','visPresacc','presaccPeak'};\n",
    "    categoryList = {'presacc'};\n",
    "\n",
    "    % Build a new table of the relevant neurons, and a list of the session/Unit\n",
    "    for i = 1 : length(categoryList)\n",
    "\n",
    "        catFileName = fullfile(dataPath, ['ccm_',categoryList{i},'_neurons', addMulti]);\n",
    "        load(catFileName)\n",
    "\n",
    "            % load the population of cancel time anlysis\n",
    "        fileName = fullfile(dataPath, 'go_vs_canceled', ssrtUse, ['ccm_canceled_vs_go_neuronTypes', addMulti]);\n",
    "        load(fileName)\n",
    "\n",
    "\n",
    "        cancelData = table();\n",
    "        for j = 1 : size(neurons, 1)\n",
    "            % find the indices in cancelTypes that correspond to this unit\n",
    "            iInd = strcmp(neurons.sessionID(j), cancelTypes.sessionID) & strcmp(neurons.unit(j), cancelTypes.unit);\n",
    "            cancelData = [cancelData; cancelTypes(iInd,:)];\n",
    "\n",
    "\n",
    "        end\n",
    "\n",
    "\n",
    "\n",
    "\n",
    "        % How many (among all units X SSDs were go vs stop different during 40 ms peri-SSRT?\n",
    "        alphaVal = .05;\n",
    "        peri40msInd = cellfun(@(x) x < alphaVal, cancelData.pValue40msStopStop, 'uni', false);\n",
    "        notPeri40ms = cellfun(@(x) x >= alphaVal, cancelData.pValue40msStopStop, 'uni', false);\n",
    "\n",
    "        pPeri40ms = sum(cell2mat(peri40msInd)) / (sum(cell2mat(peri40msInd)) + sum(cell2mat(notPeri40ms)));\n",
    "\n",
    "\n",
    "\n",
    "\n",
    "\n",
    "        %   START HERE TO USE cancelTime2Std TO SORT NEURONS\n",
    "        cancelData.cancelTime = cellfun(@(x,y,z) x - y - z, cancelData.cancelTime2Std, cancelData.stopStopSsd, cancelData.stopStopSsrt, 'uni', false);\n",
    "\n",
    "\n",
    "        % How many conditions out of all possible had a cancel time?\n",
    "        allCancelTime = cell2mat(cellfun(@(x) ~isnan(x), cancelData.cancelTime, 'uni', false));\n",
    "        nCancelCond = sum(allCancelTime);\n",
    "        allCancelPreSsrt = cell2mat(cellfun(@(x) x < latestTime, cancelData.cancelTime, 'uni', false));\n",
    "\n",
    "\n",
    "        nCondTotal = size(cell2mat(cancelData.cancelTime), 1);\n",
    "        pCancelCond = nCancelCond / nCondTotal;\n",
    "        fprintf('\\nProportion of valid cancel times per valid conditions: %d of %d:\\t%.3f\\n', nCancelCond, nCondTotal, pCancelCond)\n",
    "\n",
    "\n",
    "        pCancelPreSsrt = sum(allCancelPreSsrt) / nCancelCond;\n",
    "        fprintf('\\nProportion of cancel times < %d ms per valid conditions:: %d of %d\\t%.3f\\n', latestTime, sum(allCancelPreSsrt), nCondTotal, pCancelPreSsrt)\n",
    "\n",
    "\n",
    "        % What's the full distribution of cancel times?\n",
    "        allCancelTime = cell2mat(cancelData.cancelTime);\n",
    "        cancelCond = allCancelTime(~isnan(allCancelTime));\n",
    "\n",
    "\n",
    "\n",
    "        % How many conditions canceled for this neuron?\n",
    "        nCancelPerNeuron = cellfun(@(x) sum(~isnan(x)), cancelData.cancelTime);\n",
    "        % How many potential conditions to cancel for this neuron?\n",
    "        nCondPerNeuron = cellfun(@length, cancelData.cancelTime);\n",
    "\n",
    "        % If any condition canceled for this neuron, count it as a \"cancel\" neuron\n",
    "        neuronsCanceled = nCancelPerNeuron > 0;\n",
    "\n",
    "        % Probability of a neuron to have at least one condition that cancels\n",
    "        pNeuronCond = sum(neuronsCanceled) / size(neurons, 1);\n",
    "        fprintf('\\nProportion of neurons with at least one valid cancel time: %d of %d\\t%.2f\\n', sum(neuronsCanceled), size(neurons, 1), pNeuronCond)\n",
    "\n",
    "\n",
    "        % Probability of a neuron to have at least one condition that cancels in time\n",
    "        cancelLogical = cellfun(@(x) x < latestTime, cancelData.cancelTime, 'uni', false);\n",
    "        cancelInTimeInd = cell2mat(cellfun(@(x) sum(x), cancelLogical, 'uni', false));\n",
    "        fprintf('\\nProportion of neurons with at least one valid cancel time < %d: %d of %d\\t%.2f\\n', latestTime, sum(cancelInTimeInd>0), size(neurons, 1), sum(cancelInTimeInd>0)/size(neurons, 1))\n",
    "\n",
    "\n",
    "\n",
    "\n",
    "        % Which units canceled?\n",
    "        presaccCancel = neurons(cancelInTimeInd > 0, :);\n",
    "        presaccNoCancel = neurons(cancelInTimeInd == 0, :);\n",
    "\n",
    "        load(catFileName)\n",
    "        neurons = neurons(cancelInTimeInd > 0, :);\n",
    "        sFileName = fullfile(dataPath, ['ccm_',categoryList{i},'_cancel_',cancelType,'_neurons', addMulti]);\n",
    "        save(sFileName, 'neurons')\n",
    "\n",
    "\n",
    "        load(catFileName)\n",
    "        neurons = neurons(cancelInTimeInd == 0, :);\n",
    "        sFileName = fullfile(dataPath, ['ccm_',categoryList{i},'_noCancel_',cancelType,'_neurons', addMulti]);\n",
    "        save(sFileName, 'neurons')\n",
    "\n",
    "    end\n",
    "else\n",
    "    disp('Tyring to do mean SDF analysis but set for some other cancelType')\n",
    "end\n"
   ]
  },
  {
   "cell_type": "markdown",
   "metadata": {},
   "source": [
    "# Neuronal Separation Distributions"
   ]
  },
  {
   "cell_type": "code",
   "execution_count": null,
   "metadata": {
    "collapsed": true
   },
   "outputs": [],
   "source": [
    "opt             = ccm_options;\n",
    "opt.plotFlag    = true;\n",
    "opt.printPlot    = true;\n",
    "\n",
    "opt.multiUnit    = multiUnit;\n",
    "\n",
    "opt.ssrt = ssrtUse;\n",
    "\n",
    "opt.neuronCategory = {'presaccRamp'};\n",
    "\n",
    "\n",
    "data = ccm_cancel_time_analyses_pop(subject, projectRoot, projectDate, opt); \n",
    "\n",
    "\n",
    "\n"
   ]
  },
  {
   "cell_type": "markdown",
   "metadata": {},
   "source": [
    "### Write data to a csv file"
   ]
  },
  {
   "cell_type": "code",
   "execution_count": null,
   "metadata": {
    "collapsed": true
   },
   "outputs": [],
   "source": [
    "cancelData = data.cancelData;\n",
    "\n",
    "cancelTime = cell2mat(cellfun(@(x,y,z) x - y - z, cancelData.cancelTime2Std, cancelData.stopStopSsd, cancelData.stopStopSsrt, 'uni', false));\n",
    "\n",
    "sessionID = [];\n",
    "unit = [];\n",
    "rf = [];\n",
    "for i = 1 : size(cancelData, 1)\n",
    "    nRep = size(cancelData.stopStopSsd{i}, 1);\n",
    "    sessionID = [sessionID; repmat(cancelData.sessionID(i), nRep, 1)];\n",
    "    unit = [unit; repmat(cancelData.unit(i), nRep, 1)];\n",
    "    rf = [rf; repmat(cancelData.rf(i), nRep, 1)];\n",
    "end\n",
    "ssd = cell2mat(cancelData.stopStopSsd);\n",
    "ssrt = cell2mat(cancelData.stopStopSsrt);\n",
    "coherence = cell2mat(cancelData.stopStopCoh);\n",
    "easyHard = cell2mat(cancelData.stopStopCond);\n",
    "\n",
    "data = table(sessionID, unit, rf, ssd, ssrt, coherence, easyHard, cancelTime);\n",
    "\n",
    "fileName =  fullfile(dataPath,['cancelData_'cancelType,'_',opt.neuronCategory{1}, addMulti,'.csv'])\n",
    "writetable(data,fileName)\n"
   ]
  },
  {
   "cell_type": "markdown",
   "metadata": {},
   "source": [
    "# Neuronal Separation Per Session"
   ]
  },
  {
   "cell_type": "code",
   "execution_count": null,
   "metadata": {
    "collapsed": true
   },
   "outputs": [],
   "source": [
    "neuronCategory = {'presacc'};\n",
    "\n",
    "fileName = fullfile(dataPath, ['ccm_',neuronCategory{1},'_neurons', addMulti]);\n",
    "load(fileName)\n",
    "\n",
    "opt             = ccm_neuron_stop_vs_go;\n",
    "opt.ms2Std  = 75;\n",
    "opt.howProcess  = 'each';\n",
    "opt.plotFlag    = true;\n",
    "opt.printPlot    = true;\n",
    "opt.minTrialPerCond \t= 10;\n",
    "\n",
    "opt.multiUnit \t= multiUnit;\n",
    "\n",
    "opt.ssrt \t= ssrtUse;\n",
    "\n",
    "poolID = parpool(4);\n",
    "parfor i = 1 : size(neurons, 1)\n",
    "    iData = ccm_neuron_stop_vs_go(subject, neurons.sessionID{i}, neurons.unit(i), opt);\n",
    "    % fprintf('total process time: %.2f\\n', toc)\n",
    "end\n",
    "delete(poolID)\n"
   ]
  },
  {
   "cell_type": "markdown",
   "metadata": {},
   "source": [
    "#PROCEED TO CHOICE_CANCEL ANALYSES NOTEBOOK"
   ]
  }
 ],
 "metadata": {
  "kernelspec": {
   "display_name": "Python 2",
   "language": "python",
   "name": "python2"
  },
  "language_info": {
   "codemirror_mode": {
    "name": "ipython",
    "version": 2
   },
   "file_extension": ".py",
   "mimetype": "text/x-python",
   "name": "python",
   "nbconvert_exporter": "python",
   "pygments_lexer": "ipython2",
   "version": "2.7.13"
  }
 },
 "nbformat": 4,
 "nbformat_minor": 0
}
