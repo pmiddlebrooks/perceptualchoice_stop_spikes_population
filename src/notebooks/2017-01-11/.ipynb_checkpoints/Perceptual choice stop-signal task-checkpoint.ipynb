{
 "cells": [
  {
   "cell_type": "markdown",
   "metadata": {},
   "source": [
    "# Step 1 - Preparatory processes"
   ]
  },
  {
   "cell_type": "markdown",
   "metadata": {},
   "source": [
    "##### Step 1.2 - Add paths to MATLAB's search path"
   ]
  },
  {
   "cell_type": "markdown",
   "metadata": {},
   "source": [
    "_Goal_:  \n",
    "Ensure access to code\n",
    "\n",
    "_Instructions_:  \n",
    "Paste code into MATLAB\n",
    "\n",
    "_Output_:  \n",
    "None"
   ]
  },
  {
   "cell_type": "code",
   "execution_count": null,
   "metadata": {
    "collapsed": false
   },
   "outputs": [],
   "source": [
    "%%matlab\n",
    "projectDate = '2017-01-11';\n",
    "accreRoot = '/gpfs22';\n",
    "accreHome = '/home/middlepg';\n",
    "accreScratch = '/scratch/middlepg';\n",
    "if isdir(fullfile(accreScratch))\n",
    "    matRoot = fullfile(accreRoot,accreHome,'m-files'); % Edit this if running on Accre\n",
    "    projectRoot = fullfile(accreScratch,'perceptualchoice_stop_model');\n",
    "    environ = 'accre';\n",
    "else\n",
    "    matRoot = '/Volumes/HD-1/Users/paulmiddlebrooks/schalllab';\n",
    "    projectRoot = '/Volumes/HD-1/Users/paulmiddlebrooks/perceptualchoice_stop_spikes_population';\n",
    "    matRoot = '~/schalllab';\n",
    "    projectRoot = '~/perceptualchoice_stop_spikes_population';\n",
    "    environ = 'local';\n",
    "end\n",
    "\n",
    "addpath(genpath(fullfile(matRoot,'ccm')));\n",
    "addpath(genpath(fullfile(projectRoot,'src/code',projectDate)));\n",
    "\n",
    "cd(matRoot)\n",
    "\n"
   ]
  },
  {
   "cell_type": "markdown",
   "metadata": {},
   "source": [
    "##Add/update session info (via google docs), and export as csv into project folder:\n",
    "####Joule:\n",
    "https://docs.google.com/spreadsheets/d/1rA56h4OLnKhHE5rrVCj_7z0p5V7pJNBpjCvqwiWlDGk/edit?usp=sharing\n",
    "####Broca:\n",
    "https://docs.google.com/spreadsheets/d/1fCAimMjKYRO7HjRlLar4Oc6oMDQzqgNfUsbuolDNngA/edit?usp=sharing"
   ]
  },
  {
   "cell_type": "markdown",
   "metadata": {},
   "source": [
    "# CLASSIFY ALL NEURONS BASED ON GO TRIALS \n",
    "## Step 2 - Automatically create table of all neuron categories from all sessions"
   ]
  },
  {
   "cell_type": "markdown",
   "metadata": {},
   "source": [
    "##### Step 2.1 - Categorize all neuron types based on activation throughout trials"
   ]
  },
  {
   "cell_type": "markdown",
   "metadata": {},
   "source": [
    "_Goal_:  \n",
    "\n",
    "_Instructions_:  \n",
    "Paste code into matlab.\n",
    "\n",
    "_Output_:  \n",
    "`ccm_neuronTypes` in `.../data/<subject>/`"
   ]
  },
  {
   "cell_type": "code",
   "execution_count": null,
   "metadata": {
    "collapsed": true
   },
   "outputs": [],
   "source": [
    "%%matlab\n",
    "\n",
    "subject = 'broca';\n",
    "\n",
    "projectDate = '2017-01-11';\n",
    "projectRoot = '~/perceptualchoice_stop_spikes_population';\n",
    "\n",
    "addpath(genpath(fullfile(projectRoot,'src/code',projectDate)));\n",
    "dataPath = fullfile(projectRoot,'data',projectDate,subject);\n",
    "\n"
   ]
  },
  {
   "cell_type": "markdown",
   "metadata": {},
   "source": [
    "## Specify Constant Conditional Variables: if we are appending, and whether to use multi (or single) units, etc"
   ]
  },
  {
   "cell_type": "code",
   "execution_count": null,
   "metadata": {
    "collapsed": true
   },
   "outputs": [],
   "source": [
    "multiUnit = true;\n",
    "deleteUnmodulated = true;\n",
    "deleteSessions = true;\n",
    "normalizeData = false;\n",
    "append = false;\n",
    "ssrtUse = 'intWeightPerSession';\n",
    "\n",
    "if multiUnit\n",
    "    addMulti = '_multiUnit';\n",
    "else\n",
    "    addMulti = [];\n",
    "end\n",
    "if normalizeData\n",
    "    addNorm = '_normalized';\n",
    "else\n",
    "    addNorm = [];\n",
    "end\n",
    "\n",
    "% Which ddm criteria do we want to use?\n",
    "ddmType = 'ddmRankMean';  % ddm coherence determined by comparing means of easy vs hard spike rates into RF (and out)\n",
    "% ddmType = 'ddm';  % ddm coherence determined by ranksum test and slopes of means easy vs hard rates into RF (and out)\n",
    "\n",
    "% Which cancel time criterium do we want to use?\n",
    "cancelType = 'meanDifference';\n",
    "cancelType = 'trialByTrial';\n",
    "\n"
   ]
  },
  {
   "cell_type": "markdown",
   "metadata": {},
   "source": [
    "###(optional) Append all the full-session population data files with new data OR skip to do a fresh one (next cell)"
   ]
  },
  {
   "cell_type": "code",
   "execution_count": null,
   "metadata": {
    "collapsed": true
   },
   "outputs": [],
   "source": [
    "append = true;\n",
    "\n",
    "ccm_classify_neuron_pop(subject,projectRoot,projectDate,append)\n",
    "\n",
    "ccm_neuron_choice_pop(subject,projectRoot,projectDate, append)\n",
    "\n",
    "ccm_neuron_stop_vs_go_pop(subject,projectRoot,projectDate, append)\n"
   ]
  },
  {
   "cell_type": "markdown",
   "metadata": {},
   "source": [
    "### Create a list of all units (so you can use parallel processing to classify the units in next step)"
   ]
  },
  {
   "cell_type": "markdown",
   "metadata": {},
   "source": [
    "_Output_:  \n",
    "`ccm_units.mat` in `.../data/<subject>/`"
   ]
  },
  {
   "cell_type": "code",
   "execution_count": null,
   "metadata": {
    "collapsed": true
   },
   "outputs": [],
   "source": [
    "\n",
    "ccm_list_units(subject,projectRoot,projectDate,append, multiUnit)\n"
   ]
  },
  {
   "cell_type": "markdown",
   "metadata": {},
   "source": [
    "## Classify neurons"
   ]
  },
  {
   "cell_type": "markdown",
   "metadata": {},
   "source": [
    "_Output_:  \n",
    "`ccm_neuronTypes.mat` in `.../data/<subject>/`\n",
    "or\n",
    "`ccm_neuronTypes_multiUnit.mat` in `.../data/<subject>/`\n",
    "\n",
    "#### Also Prints pdfs of collapsed choice coherence for go trial of each unit"
   ]
  },
  {
   "cell_type": "code",
   "execution_count": null,
   "metadata": {
    "collapsed": true
   },
   "outputs": [],
   "source": [
    "opt = ccm_options;\n",
    "\n",
    "opt.parpoolSize = 5;\n",
    "opt.multiUnit = multiUnit;\n",
    "opt.append = append;\n",
    "\n",
    "\n",
    "\n",
    "neuronTypes = ccm_classify_neuron_pop(subject,projectRoot,projectDate,opt)\n"
   ]
  },
  {
   "cell_type": "markdown",
   "metadata": {},
   "source": [
    "## Step 3 - Determine subset of neurons of a given classification"
   ]
  },
  {
   "cell_type": "markdown",
   "metadata": {},
   "source": [
    "##### Step 3.1 - Manually go through the automated list of neurons of a given category and make sure they pass the eyeball test"
   ]
  },
  {
   "cell_type": "markdown",
   "metadata": {},
   "source": [
    "_Goal_: A more accurate list of neurons of a given category, so population data is not tainted by neurons obviously not fit for the category (need to make a better automated way of doing this).  \n",
    "\n",
    "_Instructions_:  \n",
    "Alter ind and fileName to reflect the desired neuron population\n",
    "Paste code into matlab.\n",
    "\n",
    "_Output_:  \n",
    "`ccm_neuronTypes` in `.../data/<subject>/`"
   ]
  },
  {
   "cell_type": "code",
   "execution_count": null,
   "metadata": {
    "collapsed": true
   },
   "outputs": [],
   "source": [
    "%%matlab\n",
    "\n",
    "fileName = 'ccm_neuronTypes';\n",
    "\n",
    "load(fullfile(dataPath, [fileName, addMulti]))\n"
   ]
  },
  {
   "cell_type": "markdown",
   "metadata": {},
   "source": [
    "## Loop through all neurons that have some type of discernable task-related activty and create pdf files of SDFs collapsed across color coherence for GO-trials only.\n",
    "This will increase the pace of manually walking through each neuron in the next step."
   ]
  },
  {
   "cell_type": "code",
   "execution_count": null,
   "metadata": {
    "collapsed": true
   },
   "outputs": [],
   "source": [
    "categoryList = {'fix', 'vis', 'checker', 'presacc', 'postsacc', 'reward', 'intertrial'};\n",
    "\n",
    "opt             = ccm_options;\n",
    "opt.howProcess  = 'print';\n",
    "opt.plotFlag    = true;\n",
    "opt.printPlot    = true;\n",
    "opt.dataType    = 'neuron';\n",
    "opt.collapseTarg \t= true;\n",
    "opt.collapseSignal \t= true;\n",
    "opt.doStops \t= false;\n",
    "\n",
    "for i = 1 : size(neuronTypes, 1)\n",
    "    for j = 1 : length(categoryList)\n",
    "        if neuronTypes.(categoryList{j})(i)\n",
    "            pdfName = [neuronTypes.sessionID{i},'_ccm_',neuronTypes.unit{i},'_neuron_collapse.pdf']\n",
    "            if ~exist(fullfile(local_figure_path,subject,'sessionCollapseChoice',pdfName))\n",
    "                opt.unitArray = neuronTypes.unit(i);\n",
    "                iData = ccm_session_data(subject, neuronTypes.sessionID{i}, opt);\n",
    "                break\n",
    "            end\n",
    "        end\n",
    "    end\n",
    "end\n"
   ]
  },
  {
   "cell_type": "markdown",
   "metadata": {},
   "source": [
    "## Walk through neurons to manually inspect and ensure proper modulation for given category\n",
    "###While you walk through, create a spreadsheet list (via google docs, e.g. or something to export as .cvs) of duplicates (to delete them in next step)"
   ]
  },
  {
   "cell_type": "code",
   "execution_count": null,
   "metadata": {
    "collapsed": true
   },
   "outputs": [],
   "source": [
    "%%matlab\n",
    "\n",
    "categoryName = 'presaccPeak';\n",
    "categoryName = 'checker';\n",
    "\n",
    "\n",
    "% Establish options to send to ccm_session_data in the for loop below\n",
    "opt             = ccm_options;\n",
    "opt.howProcess  = 'print';\n",
    "opt.plotFlag    = true;\n",
    "opt.printPlot    = true;\n",
    "opt.dataType    = 'neuron';\n",
    "opt.collapseTarg \t= true;\n",
    "opt.collapseSignal \t= true;\n",
    "opt.doStops \t= false;\n",
    "\n",
    "\n",
    "\n",
    "if append\n",
    "    % Option to load previous neurons table and add to it\n",
    "    \n",
    "    % Reduce the neuronTypes table to only those in this categoryName\n",
    "    neuronTypes = neuronTypes(logical(neuronTypes.(categoryName)), :);\n",
    "    \n",
    "    % What's the last session/unit in the list?\n",
    "    load(fullfile(dataPath, ['ccm_',categoryName,'_neurons']))\n",
    "    lastSess = neurons.sessionID(end);\n",
    "    lastUnit = neurons.unit(end);\n",
    "    \n",
    "    % Find the last categorized neuron and start at the next (appended) one\n",
    "    \n",
    "    \n",
    "    \n",
    "    \n",
    "    sessionInd = 1:size(neuronTypes, 1);\n",
    "    lastInd = find(ismember(neuronTypes.sessionID(sessionInd), lastSess) & ismember(neuronTypes.unit(sessionInd), lastUnit));\n",
    "    startInd = lastInd(end) + 1;\n",
    "else\n",
    "    % Otherwise start a new table for this category\n",
    "    ind = neuronTypes.(categoryName);\n",
    "    neurons = table();\n",
    "    startInd = 1;\n",
    "    sessionInd = find(ind);\n",
    "end\n",
    "\n",
    "\n",
    "for i = startInd : length(sessionInd)\n",
    "    unitInfo = table();\n",
    "    unitInfo.sessionID  = neuronTypes.sessionID(sessionInd(i));\n",
    "    unitInfo.unit       = neuronTypes.unit(sessionInd(i));\n",
    "    unitInfo.hemisphere  = neuronTypes.hemisphere(sessionInd(i));\n",
    "    unitInfo.rf         = neuronTypes.rf(sessionInd(i));\n",
    "    \n",
    "    fprintf('%02d of %d\\t%s\\t%s\\n',i,length(sessionInd), neuronTypes.sessionID{sessionInd(i)},neuronTypes.unit{sessionInd(i)})\n",
    "    fprintf('Hem: %s\\tRF: %s\\n',neuronTypes.hemisphere{sessionInd(i)},neuronTypes.rf{sessionInd(i)})\n",
    "    \n",
    "    opt.unitArray = unitInfo.unit;\n",
    "    opt.hemisphere = neuronTypes.hemisphere{sessionInd(i)};\n",
    "    opt.multiUnit = multiUnit;\n",
    "    \n",
    "%    pdfName = [neuronTypes.sessionID{sessionInd(i)},'_ccm_',neuronTypes.unit{sessionInd(i)},'_neuron_collapse.pdf'];\n",
    "%    if exist(fullfile(local_figure_path,subject,'sessionCollapseChoice',pdfName))\n",
    "%      open(fullfile(local_figure_path,subject,'sessionCollapseChoice',pdfName))\n",
    "%    else\n",
    "%      iData = ccm_session_data(subject, neuronTypes.sessionID{sessionInd(i)}, opt);\n",
    "%    end\n",
    "    \n",
    " addToList = 1;   \n",
    "%    prompt = 'add to list?';\n",
    "%    addToList = input(prompt);\n",
    "    if addToList       \n",
    "        neurons = [neurons; unitInfo];       \n",
    "    end\n",
    "    clear iData\n",
    "end\n",
    "\n",
    "\n",
    "fileName = fullfile(dataPath, ['ccm_',categoryName,'_neurons', addMulti]);\n",
    "\n",
    "save(fileName, 'neurons')\n",
    "\n"
   ]
  },
  {
   "cell_type": "markdown",
   "metadata": {},
   "source": [
    "### Loop through the main categories and get rid of duplicates (from the duplicates list made above)\n",
    "Duplicates will stay in the main neuronTypes list in ccm_neuronTypes.mat. But they'll be removed from each activity category of neurons (ccm_presacc_neurons.mat, e.g.)"
   ]
  },
  {
   "cell_type": "code",
   "execution_count": null,
   "metadata": {
    "collapsed": true
   },
   "outputs": [],
   "source": [
    "%%  Get rid of known duplicate units for classification\n",
    "\n",
    "categoryList = {'fix', 'vis', 'checker', 'presacc', 'postsacc', 'reward', 'intertrial'};\n",
    "\n",
    "% Open the sessions file and makes lists of the entries\n",
    "fid=  fopen(fullfile(dataPath,['ccm_duplicate_units.csv']));\n",
    "\n",
    "nCol = 2;\n",
    "formatSpec = '%s';\n",
    "mHeader = textscan(fid, formatSpec, nCol, 'Delimiter', ',');\n",
    "\n",
    "mData = textscan(fid, '%s %s', 'Delimiter', ',','TreatAsEmpty',{'NA','na'});\n",
    "\n",
    "sessionList     = mData{1};\n",
    "unitList  = mData{2};\n",
    "\n",
    "for j = 1 : length(categoryList)\n",
    "\n",
    "    load(fullfile(dataPath, ['ccm_',categoryList(j),'_neurons']), 'neurons')\n",
    "\n",
    "    for i = 1 : size(sessionList, 1)\n",
    "        check = find(strcmp(neurons.sessionID, sessionList(i)) & strcmp(neurons.unit, unitList(i)));\n",
    "        if isempty(check)\n",
    "            fprintf('%s\\t%s is not a neuron apparently: check it again\\n', sessionList{i}, unitList{i})\n",
    "        end\n",
    "        neurons(strcmp(neurons.sessionID, sessionList(i)) & strcmp(neurons.unit, unitList(i)), :) = [];\n",
    "    end\n",
    "end"
   ]
  },
  {
   "cell_type": "markdown",
   "metadata": {},
   "source": [
    "## Make a list of all units and modulated units"
   ]
  },
  {
   "cell_type": "code",
   "execution_count": null,
   "metadata": {
    "collapsed": true
   },
   "outputs": [],
   "source": [
    "fileName = 'ccm_neuronTypes';\n",
    "load(fullfile(dataPath, [fileName, addMulti]))\n",
    "\n",
    "% All modulated units\n",
    "modulated = neuronTypes.fix | neuronTypes.vis | neuronTypes.checker | neuronTypes.presacc | neuronTypes.postsacc | neuronTypes.intertrial;\n",
    "neurons = neuronTypes(modulated,1:4);\n",
    "\n",
    "sFileName = fullfile(dataPath, ['ccm_modulated_neurons', addMulti]);\n",
    "save(sFileName, 'neurons')\n",
    "\n",
    "\n",
    "\n",
    "% All units\n",
    "neurons = neuronTypes(:,1:4)\n",
    "\n",
    "sFileName = fullfile(dataPath, ['ccm_all_neurons', addMulti]);\n",
    "save(sFileName, 'neurons')\n"
   ]
  },
  {
   "cell_type": "markdown",
   "metadata": {},
   "source": [
    "## Use lists above to determine subsets"
   ]
  },
  {
   "cell_type": "markdown",
   "metadata": {},
   "source": [
    "###Vis-presacc, Vis-only, and Presacc-only"
   ]
  },
  {
   "cell_type": "code",
   "execution_count": null,
   "metadata": {
    "collapsed": true
   },
   "outputs": [],
   "source": [
    "pFileName = fullfile(dataPath, ['ccm_presacc_neurons', addMulti]);\n",
    "vFileName = fullfile(dataPath, ['ccm_vis_neurons', addMulti]);\n",
    "p = load(pFileName);   % Loads neurons\n",
    "v = load(vFileName);   % Loads neurons\n",
    "\n",
    "% Visual Presaccadic\n",
    "neurons = intersect(p.neurons, v.neurons);\n",
    "\n",
    "\n",
    "\n",
    "sFileName = fullfile(dataPath, ['ccm_visPresacc_neurons', addMulti]);\n",
    "save(sFileName, 'neurons')\n",
    "\n"
   ]
  },
  {
   "cell_type": "code",
   "execution_count": null,
   "metadata": {
    "collapsed": true
   },
   "outputs": [],
   "source": [
    "% Visual-only, Presacc-only\n",
    "[i ia ib] = setxor(p.neurons, v.neurons);\n",
    "\n",
    "neurons = v.neurons(ib,:);\n",
    "\n",
    "sFileName = fullfile(dataPath, ['ccm_visNoPresacc_neurons', addMulti]);\n",
    "save(sFileName, 'neurons')\n",
    "\n",
    "\n",
    "\n",
    "neurons = p.neurons(ia,:);\n",
    "sFileName = fullfile(dataPath, ['ccm_presaccNoVis_neurons', addMulti]);\n",
    "save(sFileName, 'neurons')\n"
   ]
  },
  {
   "cell_type": "markdown",
   "metadata": {},
   "source": [
    "## Presacc Subtypes:  Ramping, Peak, Max: \n",
    "#### little/no post-sacc and presacc > 4 standard deviations above fixation baseline"
   ]
  },
  {
   "cell_type": "code",
   "execution_count": null,
   "metadata": {
    "collapsed": true
   },
   "outputs": [],
   "source": [
    "%%matlab\n",
    "\n",
    "categoryName = 'presaccRamp';\n",
    "categoryName = 'presaccPeak';\n",
    "\n",
    "% Create list of potential presaccRamp units\n",
    "fileName = 'ccm_neuronTypes';\n",
    "load(fullfile(dataPath, [fileName, addMulti]))\n",
    "ind = neuronTypes.(categoryName);\n",
    "r.neurons = neuronTypes(logical(ind),1:4);\n",
    "\n",
    "%Load presacc neuron list\n",
    "p = load(fullfile(dataPath, ['ccm_presacc_neurons', addMulti]));\n",
    "\n",
    "\n",
    "subtypeList = intersect(r.neurons, p.neurons);\n",
    "\n",
    "\n",
    "\n",
    "% Establish options to send to ccm_session_data in the for loop below\n",
    "opt             = ccm_options;\n",
    "opt.howProcess  = 'print';\n",
    "opt.plotFlag    = true;\n",
    "opt.printPlot    = true;\n",
    "opt.dataType    = 'neuron';\n",
    "opt.collapseTarg \t= true;\n",
    "opt.collapseSignal \t= true;\n",
    "opt.doStops \t= false;\n",
    "\n",
    "\n",
    "\n",
    "    neurons = table();\n",
    "\n",
    "for i = 1 : size(rampList, 1)\n",
    "    unitInfo = table();\n",
    "    unitInfo.sessionID  = rampList.sessionID(i);\n",
    "    unitInfo.unit       = rampList.unit(i);\n",
    "    unitInfo.hemisphere  = rampList.hemisphere(i);\n",
    "    unitInfo.rf         = rampList.rf(i);\n",
    "    \n",
    "    fprintf('%02d of %d\\t%s\\t%s\\n',i,size(subtypeList, 1), subtypeList.sessionID{i},subtypeList.unit{i})\n",
    "    fprintf('Hem: %s\\tRF: %s\\n',subtypeList.hemisphere{i}, subtypeList.rf{i})\n",
    "    \n",
    "    opt.unitArray = unitInfo.unit;\n",
    "    opt.hemisphere = rampList.hemisphere{i};\n",
    "    opt.multiUnit = multiUnit;\n",
    "    \n",
    "    pdfName = [subtypeList.sessionID{i},'_ccm_',subtypeList.unit{i},'_neuron_collapse.pdf'];\n",
    "    if exist(fullfile(local_figure_path,subject,'sessionCollapseChoice',pdfName))\n",
    "      open(fullfile(local_figure_path,subject,'sessionCollapseChoice',pdfName))\n",
    "    else\n",
    "      iData = ccm_session_data(subject, rampList.sessionID{i}, opt);\n",
    "    end\n",
    "    \n",
    "    \n",
    "    prompt = 'add to list?';\n",
    "    addToList = input(prompt);\n",
    "    if addToList\n",
    "        \n",
    "        neurons = [neurons; unitInfo];\n",
    "        \n",
    "    end\n",
    "    clear iData\n",
    "end\n",
    "\n",
    "\n",
    "fileName = fullfile(dataPath, ['ccm_',categoryName,'_neurons', addMulti]);\n",
    "\n",
    "save(fileName, 'neurons')\n",
    "\n"
   ]
  },
  {
   "cell_type": "markdown",
   "metadata": {},
   "source": [
    "###Presacc with no Postsacc, Postsacc with no Presacc"
   ]
  },
  {
   "cell_type": "code",
   "execution_count": null,
   "metadata": {
    "collapsed": true
   },
   "outputs": [],
   "source": [
    "preFileName = fullfile(dataPath, ['ccm_presacc_neurons', addMulti]);\n",
    "pre = load(preFileName);   % Loads neurons\n",
    "\n",
    "postFileName = fullfile(dataPath, ['ccm_postsacc_neurons', addMulti]);\n",
    "post = load(postFileName);   % Loads neurons\n",
    "\n",
    "[i ia ib] = setxor(pre.neurons, post.neurons);\n",
    "\n",
    "\n",
    "neurons = pre.neurons(ia,:);\n",
    "sFileName = fullfile(dataPath, ['ccm_presaccNoPostsacc_neurons', addMulti]);\n",
    "save(sFileName, 'neurons')\n",
    "\n",
    "neurons = post.neurons(ib,:);\n",
    "sFileName = fullfile(dataPath, ['ccm_postsaccNoPresacc_neurons', addMulti]);\n",
    "save(sFileName, 'neurons')\n"
   ]
  },
  {
   "cell_type": "markdown",
   "metadata": {},
   "source": [
    "###Others?"
   ]
  },
  {
   "cell_type": "markdown",
   "metadata": {},
   "source": [
    "### Step 3.2 - Process the list of sessions to get population data"
   ]
  },
  {
   "cell_type": "code",
   "execution_count": null,
   "metadata": {
    "collapsed": true
   },
   "outputs": [],
   "source": [
    "%% matlab\n",
    "    \n",
    "fileName = 'ccm_neuronTypes';\n",
    "load(fullfile(dataPath, [fileName, addMulti]))\n",
    "\n",
    "%neuronTypes = neuronTypes(end-6:end,:)\n",
    "\n",
    "opt             = ccm_options;\n",
    "opt.categoryName = 'all';\n",
    "opt.sessionArray = neuronTypes.sessionID;\n",
    "opt.unitArray   = neuronTypes.unit;\n",
    "opt.rfList      = neuronTypes.rf;\n",
    "opt.hemisphereList      = neuronTypes.hemisphere;\n",
    "\n",
    "opt.sessionSet  = [];\n",
    "opt.howProcess  = 'print';\n",
    "opt.dataType    = 'neuron';\n",
    "opt.collapseTarg \t= true;\n",
    "opt.doStops \t= true;\n",
    "opt.multiUnit \t= multiUnit;\n",
    "opt.normalize \t= normalizeData;\n",
    "\n",
    "\n",
    "\n",
    "\n",
    "ccm_population_neuron(subject,projectRoot,projectDate, opt);\n",
    "\n",
    "    \n"
   ]
  },
  {
   "cell_type": "markdown",
   "metadata": {},
   "source": [
    "# POPULATION NEURAL RESPONSES ON STOP TRIALS \n"
   ]
  },
  {
   "cell_type": "code",
   "execution_count": null,
   "metadata": {
    "collapsed": true
   },
   "outputs": [],
   "source": [
    "categoryName = 'presacc';\n",
    "opt = ccm_options;\n",
    "opt.categoryName = categoryName;\n",
    "opt.multiUnit \t= multiUnit;\n",
    "\n",
    "ccm_neuron_inhibition_population(subject,projectRoot,projectDate,opt)\n"
   ]
  },
  {
   "cell_type": "markdown",
   "metadata": {},
   "source": [
    "# PROCEED TO CHOICE ANALYSES NOTEBOOK"
   ]
  }
 ],
 "metadata": {
  "kernelspec": {
   "display_name": "Python 2",
   "language": "python",
   "name": "python2"
  },
  "language_info": {
   "codemirror_mode": {
    "name": "ipython",
    "version": 2
   },
   "file_extension": ".py",
   "mimetype": "text/x-python",
   "name": "python",
   "nbconvert_exporter": "python",
   "pygments_lexer": "ipython2",
   "version": "2.7.13"
  }
 },
 "nbformat": 4,
 "nbformat_minor": 0
}
